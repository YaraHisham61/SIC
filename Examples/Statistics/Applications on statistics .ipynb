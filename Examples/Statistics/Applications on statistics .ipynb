{
 "cells": [
  {
   "cell_type": "code",
   "execution_count": 1,
   "id": "6359d85e-1ed9-4fb2-b84a-7c8b6ff41ca3",
   "metadata": {},
   "outputs": [],
   "source": [
    "import pandas as pd \n",
    "import numpy as np \n",
    "import matplotlib.pyplot as plt \n",
    "import seaborn as sns \n",
    "from scipy import stats\n"
   ]
  },
  {
   "cell_type": "code",
   "execution_count": 16,
   "id": "405b8041-a8bb-4de7-847a-327090c1681f",
   "metadata": {},
   "outputs": [],
   "source": [
    "np.random.seed(0)\n",
    "sales_data = np.random.exponential(scale=1000, size=1000)  \n"
   ]
  },
  {
   "cell_type": "code",
   "execution_count": 17,
   "id": "427cf09b-d70a-441e-b9e7-c00f55151c11",
   "metadata": {},
   "outputs": [],
   "source": [
    "df = pd.DataFrame(sales_data, columns=['sales'])"
   ]
  },
  {
   "cell_type": "code",
   "execution_count": 18,
   "id": "dadd40cd-298a-4576-9308-817c492d9ea4",
   "metadata": {},
   "outputs": [
    {
     "data": {
      "text/html": [
       "<div>\n",
       "<style scoped>\n",
       "    .dataframe tbody tr th:only-of-type {\n",
       "        vertical-align: middle;\n",
       "    }\n",
       "\n",
       "    .dataframe tbody tr th {\n",
       "        vertical-align: top;\n",
       "    }\n",
       "\n",
       "    .dataframe thead th {\n",
       "        text-align: right;\n",
       "    }\n",
       "</style>\n",
       "<table border=\"1\" class=\"dataframe\">\n",
       "  <thead>\n",
       "    <tr style=\"text-align: right;\">\n",
       "      <th></th>\n",
       "      <th>sales</th>\n",
       "    </tr>\n",
       "  </thead>\n",
       "  <tbody>\n",
       "    <tr>\n",
       "      <th>0</th>\n",
       "      <td>795.874508</td>\n",
       "    </tr>\n",
       "    <tr>\n",
       "      <th>1</th>\n",
       "      <td>1255.930763</td>\n",
       "    </tr>\n",
       "    <tr>\n",
       "      <th>2</th>\n",
       "      <td>923.223146</td>\n",
       "    </tr>\n",
       "    <tr>\n",
       "      <th>3</th>\n",
       "      <td>787.201152</td>\n",
       "    </tr>\n",
       "    <tr>\n",
       "      <th>4</th>\n",
       "      <td>551.048491</td>\n",
       "    </tr>\n",
       "  </tbody>\n",
       "</table>\n",
       "</div>"
      ],
      "text/plain": [
       "         sales\n",
       "0   795.874508\n",
       "1  1255.930763\n",
       "2   923.223146\n",
       "3   787.201152\n",
       "4   551.048491"
      ]
     },
     "execution_count": 18,
     "metadata": {},
     "output_type": "execute_result"
    }
   ],
   "source": [
    "df.head()"
   ]
  },
  {
   "cell_type": "code",
   "execution_count": 5,
   "id": "4aaf0492-9732-4036-aead-408dfc364097",
   "metadata": {},
   "outputs": [
    {
     "data": {
      "text/html": [
       "<div>\n",
       "<style scoped>\n",
       "    .dataframe tbody tr th:only-of-type {\n",
       "        vertical-align: middle;\n",
       "    }\n",
       "\n",
       "    .dataframe tbody tr th {\n",
       "        vertical-align: top;\n",
       "    }\n",
       "\n",
       "    .dataframe thead th {\n",
       "        text-align: right;\n",
       "    }\n",
       "</style>\n",
       "<table border=\"1\" class=\"dataframe\">\n",
       "  <thead>\n",
       "    <tr style=\"text-align: right;\">\n",
       "      <th></th>\n",
       "      <th>sales</th>\n",
       "    </tr>\n",
       "  </thead>\n",
       "  <tbody>\n",
       "    <tr>\n",
       "      <th>count</th>\n",
       "      <td>1000.000000</td>\n",
       "    </tr>\n",
       "    <tr>\n",
       "      <th>mean</th>\n",
       "      <td>1003.540209</td>\n",
       "    </tr>\n",
       "    <tr>\n",
       "      <th>std</th>\n",
       "      <td>1029.608774</td>\n",
       "    </tr>\n",
       "    <tr>\n",
       "      <th>min</th>\n",
       "      <td>0.546114</td>\n",
       "    </tr>\n",
       "    <tr>\n",
       "      <th>25%</th>\n",
       "      <td>284.505079</td>\n",
       "    </tr>\n",
       "    <tr>\n",
       "      <th>50%</th>\n",
       "      <td>656.476060</td>\n",
       "    </tr>\n",
       "    <tr>\n",
       "      <th>75%</th>\n",
       "      <td>1336.591574</td>\n",
       "    </tr>\n",
       "    <tr>\n",
       "      <th>max</th>\n",
       "      <td>8561.030754</td>\n",
       "    </tr>\n",
       "  </tbody>\n",
       "</table>\n",
       "</div>"
      ],
      "text/plain": [
       "             sales\n",
       "count  1000.000000\n",
       "mean   1003.540209\n",
       "std    1029.608774\n",
       "min       0.546114\n",
       "25%     284.505079\n",
       "50%     656.476060\n",
       "75%    1336.591574\n",
       "max    8561.030754"
      ]
     },
     "execution_count": 5,
     "metadata": {},
     "output_type": "execute_result"
    }
   ],
   "source": [
    "df.describe()"
   ]
  },
  {
   "cell_type": "code",
   "execution_count": null,
   "id": "3a60c245-828c-4bf3-97bb-31b289ea5ce5",
   "metadata": {},
   "outputs": [],
   "source": []
  },
  {
   "cell_type": "code",
   "execution_count": 6,
   "id": "2d64d9e8-21b8-41c0-a898-b1710f5c03b2",
   "metadata": {},
   "outputs": [
    {
     "data": {
      "image/png": "[encoded data removed]",
      "text/plain": [
       "<Figure size 640x480 with 1 Axes>"
      ]
     },
     "metadata": {},
     "output_type": "display_data"
    }
   ],
   "source": [
    "## Plot a histogram of the original sales data\n",
    "plt.hist(df['sales'], bins=30, density=True, alpha=0.5, color='blue')\n",
    "plt.title('Histogram of Original Sales Data')\n",
    "plt.xlabel('Sales')\n",
    "plt.ylabel('Density')\n",
    "plt.show()"
   ]
  },
  {
   "cell_type": "code",
   "execution_count": 7,
   "id": "a96de563",
   "metadata": {},
   "outputs": [],
   "source": [
    "# Apply the Box-Cox transformation to the sales data\n",
    "df['sales'], lam = stats.boxcox(df['sales'])\n"
   ]
  },
  {
   "cell_type": "code",
   "execution_count": null,
   "id": "253ee888-27c3-473a-9649-8f260b99e5d6",
   "metadata": {},
   "outputs": [],
   "source": [
    "df.head(5)"
   ]
  },
  {
   "cell_type": "code",
   "execution_count": 23,
   "id": "c8d4c69c",
   "metadata": {},
   "outputs": [
    {
     "data": {
      "image/png": "[encoded data removed]",
      "text/plain": [
       "<Figure size 640x480 with 1 Axes>"
      ]
     },
     "metadata": {},
     "output_type": "display_data"
    }
   ],
   "source": [
    "# Plot a histogram of the transformed sales data\n",
    "plt.hist(df['sales'], bins=40, density=True, alpha=0.5, color='blue')\n",
    "plt.title('Histogram of Transformed Sales Data')\n",
    "plt.xlabel('Sales')\n",
    "plt.ylabel('Density')\n",
    "plt.show()"
   ]
  },
  {
   "cell_type": "code",
   "execution_count": 11,
   "id": "bbc2a49d-debb-4f3d-9c22-1f8000a8bfd6",
   "metadata": {},
   "outputs": [],
   "source": [
    "from sklearn.preprocessing import StandardScaler\n"
   ]
  },
  {
   "cell_type": "code",
   "execution_count": 12,
   "id": "3b8470fb-dc4f-43e0-982f-0f3b64fdfcfe",
   "metadata": {},
   "outputs": [],
   "source": [
    "scaler = StandardScaler()\n"
   ]
  },
  {
   "cell_type": "code",
   "execution_count": 13,
   "id": "ec6a792a-8f8e-422c-929f-1d736a3a76f8",
   "metadata": {},
   "outputs": [],
   "source": [
    "df['sales'] = scaler.fit_transform(df[['sales']])\n"
   ]
  },
  {
   "cell_type": "code",
   "execution_count": 19,
   "id": "b915f0ab-fefe-4427-b0af-909c0b23ec1a",
   "metadata": {},
   "outputs": [],
   "source": [
    "from sklearn.preprocessing import PowerTransformer\n"
   ]
  },
  {
   "cell_type": "code",
   "execution_count": 21,
   "id": "e4fd7b84-4817-42a5-9d59-dde5f8339caa",
   "metadata": {},
   "outputs": [],
   "source": [
    "power_transformer = PowerTransformer(method='yeo-johnson')\n"
   ]
  },
  {
   "cell_type": "code",
   "execution_count": 22,
   "id": "08cd31b7-ba8d-4517-92e0-a2f9ad5e0093",
   "metadata": {},
   "outputs": [],
   "source": [
    "df['sales'] = power_transformer.fit_transform(df[['sales']])\n"
   ]
  },
  {
   "cell_type": "markdown",
   "id": "4c176b9b",
   "metadata": {},
   "source": [
    "# Hypothesis Testing"
   ]
  },
  {
   "cell_type": "code",
   "execution_count": 24,
   "id": "66f9c3dd",
   "metadata": {},
   "outputs": [],
   "source": [
    "import pandas as pd\n",
    "import scipy.stats as stats\n"
   ]
  },
  {
   "cell_type": "code",
   "execution_count": 25,
   "id": "ab52670d",
   "metadata": {},
   "outputs": [],
   "source": [
    "# Load the widget weights from the CSV file\n",
    "df = pd.read_csv(\"weight-height.csv\")\n"
   ]
  },
  {
   "cell_type": "code",
   "execution_count": 26,
   "id": "5c6375c7",
   "metadata": {},
   "outputs": [
    {
     "data": {
      "text/html": [
       "<div>\n",
       "<style scoped>\n",
       "    .dataframe tbody tr th:only-of-type {\n",
       "        vertical-align: middle;\n",
       "    }\n",
       "\n",
       "    .dataframe tbody tr th {\n",
       "        vertical-align: top;\n",
       "    }\n",
       "\n",
       "    .dataframe thead th {\n",
       "        text-align: right;\n",
       "    }\n",
       "</style>\n",
       "<table border=\"1\" class=\"dataframe\">\n",
       "  <thead>\n",
       "    <tr style=\"text-align: right;\">\n",
       "      <th></th>\n",
       "      <th>Gender</th>\n",
       "      <th>Height</th>\n",
       "      <th>Weight</th>\n",
       "    </tr>\n",
       "  </thead>\n",
       "  <tbody>\n",
       "    <tr>\n",
       "      <th>0</th>\n",
       "      <td>Male</td>\n",
       "      <td>73.847017</td>\n",
       "      <td>241.893563</td>\n",
       "    </tr>\n",
       "    <tr>\n",
       "      <th>1</th>\n",
       "      <td>Male</td>\n",
       "      <td>68.781904</td>\n",
       "      <td>162.310473</td>\n",
       "    </tr>\n",
       "    <tr>\n",
       "      <th>2</th>\n",
       "      <td>Male</td>\n",
       "      <td>74.110105</td>\n",
       "      <td>212.740856</td>\n",
       "    </tr>\n",
       "    <tr>\n",
       "      <th>3</th>\n",
       "      <td>Male</td>\n",
       "      <td>71.730978</td>\n",
       "      <td>220.042470</td>\n",
       "    </tr>\n",
       "    <tr>\n",
       "      <th>4</th>\n",
       "      <td>Male</td>\n",
       "      <td>69.881796</td>\n",
       "      <td>206.349801</td>\n",
       "    </tr>\n",
       "    <tr>\n",
       "      <th>...</th>\n",
       "      <td>...</td>\n",
       "      <td>...</td>\n",
       "      <td>...</td>\n",
       "    </tr>\n",
       "    <tr>\n",
       "      <th>9995</th>\n",
       "      <td>Female</td>\n",
       "      <td>66.172652</td>\n",
       "      <td>136.777454</td>\n",
       "    </tr>\n",
       "    <tr>\n",
       "      <th>9996</th>\n",
       "      <td>Female</td>\n",
       "      <td>67.067155</td>\n",
       "      <td>170.867906</td>\n",
       "    </tr>\n",
       "    <tr>\n",
       "      <th>9997</th>\n",
       "      <td>Female</td>\n",
       "      <td>63.867992</td>\n",
       "      <td>128.475319</td>\n",
       "    </tr>\n",
       "    <tr>\n",
       "      <th>9998</th>\n",
       "      <td>Female</td>\n",
       "      <td>69.034243</td>\n",
       "      <td>163.852461</td>\n",
       "    </tr>\n",
       "    <tr>\n",
       "      <th>9999</th>\n",
       "      <td>Female</td>\n",
       "      <td>61.944246</td>\n",
       "      <td>113.649103</td>\n",
       "    </tr>\n",
       "  </tbody>\n",
       "</table>\n",
       "<p>10000 rows × 3 columns</p>\n",
       "</div>"
      ],
      "text/plain": [
       "      Gender     Height      Weight\n",
       "0       Male  73.847017  241.893563\n",
       "1       Male  68.781904  162.310473\n",
       "2       Male  74.110105  212.740856\n",
       "3       Male  71.730978  220.042470\n",
       "4       Male  69.881796  206.349801\n",
       "...      ...        ...         ...\n",
       "9995  Female  66.172652  136.777454\n",
       "9996  Female  67.067155  170.867906\n",
       "9997  Female  63.867992  128.475319\n",
       "9998  Female  69.034243  163.852461\n",
       "9999  Female  61.944246  113.649103\n",
       "\n",
       "[10000 rows x 3 columns]"
      ]
     },
     "execution_count": 26,
     "metadata": {},
     "output_type": "execute_result"
    }
   ],
   "source": [
    "df"
   ]
  },
  {
   "cell_type": "code",
   "execution_count": 27,
   "id": "4107734e",
   "metadata": {},
   "outputs": [
    {
     "data": {
      "text/html": [
       "<div>\n",
       "<style scoped>\n",
       "    .dataframe tbody tr th:only-of-type {\n",
       "        vertical-align: middle;\n",
       "    }\n",
       "\n",
       "    .dataframe tbody tr th {\n",
       "        vertical-align: top;\n",
       "    }\n",
       "\n",
       "    .dataframe thead th {\n",
       "        text-align: right;\n",
       "    }\n",
       "</style>\n",
       "<table border=\"1\" class=\"dataframe\">\n",
       "  <thead>\n",
       "    <tr style=\"text-align: right;\">\n",
       "      <th></th>\n",
       "      <th>Height</th>\n",
       "      <th>Weight</th>\n",
       "    </tr>\n",
       "  </thead>\n",
       "  <tbody>\n",
       "    <tr>\n",
       "      <th>count</th>\n",
       "      <td>10000.000000</td>\n",
       "      <td>10000.000000</td>\n",
       "    </tr>\n",
       "    <tr>\n",
       "      <th>mean</th>\n",
       "      <td>66.367560</td>\n",
       "      <td>161.440357</td>\n",
       "    </tr>\n",
       "    <tr>\n",
       "      <th>std</th>\n",
       "      <td>3.847528</td>\n",
       "      <td>32.108439</td>\n",
       "    </tr>\n",
       "    <tr>\n",
       "      <th>min</th>\n",
       "      <td>54.263133</td>\n",
       "      <td>64.700127</td>\n",
       "    </tr>\n",
       "    <tr>\n",
       "      <th>25%</th>\n",
       "      <td>63.505620</td>\n",
       "      <td>135.818051</td>\n",
       "    </tr>\n",
       "    <tr>\n",
       "      <th>50%</th>\n",
       "      <td>66.318070</td>\n",
       "      <td>161.212928</td>\n",
       "    </tr>\n",
       "    <tr>\n",
       "      <th>75%</th>\n",
       "      <td>69.174262</td>\n",
       "      <td>187.169525</td>\n",
       "    </tr>\n",
       "    <tr>\n",
       "      <th>max</th>\n",
       "      <td>78.998742</td>\n",
       "      <td>269.989699</td>\n",
       "    </tr>\n",
       "  </tbody>\n",
       "</table>\n",
       "</div>"
      ],
      "text/plain": [
       "             Height        Weight\n",
       "count  10000.000000  10000.000000\n",
       "mean      66.367560    161.440357\n",
       "std        3.847528     32.108439\n",
       "min       54.263133     64.700127\n",
       "25%       63.505620    135.818051\n",
       "50%       66.318070    161.212928\n",
       "75%       69.174262    187.169525\n",
       "max       78.998742    269.989699"
      ]
     },
     "execution_count": 27,
     "metadata": {},
     "output_type": "execute_result"
    }
   ],
   "source": [
    "df.describe()"
   ]
  },
  {
   "cell_type": "code",
   "execution_count": null,
   "id": "8e84d4b6",
   "metadata": {},
   "outputs": [],
   "source": [
    "df.info()"
   ]
  },
  {
   "cell_type": "code",
   "execution_count": 28,
   "id": "fa50394a",
   "metadata": {},
   "outputs": [
    {
     "data": {
      "text/plain": [
       "Gender    0\n",
       "Height    0\n",
       "Weight    0\n",
       "dtype: int64"
      ]
     },
     "execution_count": 28,
     "metadata": {},
     "output_type": "execute_result"
    }
   ],
   "source": [
    "df.isna().sum()"
   ]
  },
  {
   "cell_type": "code",
   "execution_count": 30,
   "id": "d18327eb",
   "metadata": {},
   "outputs": [],
   "source": [
    "# Calculate the sample mean and standard deviation\n",
    "sample_mean = df[\"Weight\"].mean()\n",
    "sample_std = df[\"Weight\"].std()"
   ]
  },
  {
   "cell_type": "code",
   "execution_count": 31,
   "id": "c532f654",
   "metadata": {},
   "outputs": [
    {
     "data": {
      "text/plain": [
       "161.44035683283076"
      ]
     },
     "execution_count": 31,
     "metadata": {},
     "output_type": "execute_result"
    }
   ],
   "source": [
    "sample_mean"
   ]
  },
  {
   "cell_type": "code",
   "execution_count": 32,
   "id": "83af1b7c",
   "metadata": {},
   "outputs": [
    {
     "data": {
      "text/plain": [
       "32.108439006519546"
      ]
     },
     "execution_count": 32,
     "metadata": {},
     "output_type": "execute_result"
    }
   ],
   "source": [
    "sample_std"
   ]
  },
  {
   "cell_type": "code",
   "execution_count": 33,
   "id": "7124a875",
   "metadata": {},
   "outputs": [],
   "source": [
    "# Set the null hypothesis (H0): the average weight is 10 grams\n",
    "null_hypothesis = 10\n",
    "\n",
    "# Set the alternative hypothesis (Ha): the average weight is not equal to 10 grams\n",
    "alternative_hypothesis = \"two-sided\"  "
   ]
  },
  {
   "cell_type": "code",
   "execution_count": 34,
   "id": "f3d683cf",
   "metadata": {},
   "outputs": [],
   "source": [
    "# Perform a one-sample t-test\n",
    "z_statistic, p_value = stats.ttest_1samp(df[\"Weight\"], null_hypothesis, alternative=alternative_hypothesis)"
   ]
  },
  {
   "cell_type": "code",
   "execution_count": 35,
   "id": "a15f567d",
   "metadata": {},
   "outputs": [
    {
     "name": "stdout",
     "output_type": "stream",
     "text": [
      "Sample mean: 161.44 grams\n",
      "Sample standard deviation: 32.11 grams\n",
      "t-statistic: 471.65\n",
      "p-value: 0.00e+00\n"
     ]
    }
   ],
   "source": [
    "# Print the results\n",
    "print(\"Sample mean: {:.2f} grams\".format(sample_mean))\n",
    "print(\"Sample standard deviation: {:.2f} grams\".format(sample_std))\n",
    "print(\"t-statistic: {:.2f}\".format(t_statistic))\n",
    "print(\"p-value: {:.2e}\".format(p_value))"
   ]
  },
  {
   "cell_type": "code",
   "execution_count": 36,
   "id": "bd673478",
   "metadata": {},
   "outputs": [
    {
     "data": {
      "text/plain": [
       "False"
      ]
     },
     "execution_count": 36,
     "metadata": {},
     "output_type": "execute_result"
    }
   ],
   "source": [
    "p_value >0.05"
   ]
  },
  {
   "cell_type": "code",
   "execution_count": 37,
   "id": "ca4e5eed",
   "metadata": {},
   "outputs": [
    {
     "data": {
      "text/plain": [
       "True"
      ]
     },
     "execution_count": 37,
     "metadata": {},
     "output_type": "execute_result"
    }
   ],
   "source": [
    "p_value <0.05"
   ]
  },
  {
   "cell_type": "code",
   "execution_count": 38,
   "id": "7f78088b",
   "metadata": {},
   "outputs": [
    {
     "name": "stdout",
     "output_type": "stream",
     "text": [
      "Sample mean: 161.44 grams\n",
      "Sample standard deviation: 32.11 grams\n",
      "t-statistic: 471.65\n",
      "p-value: 0.00e+00\n",
      "Reject the null hypothesis\n"
     ]
    }
   ],
   "source": [
    "# Print the results\n",
    "print(\"Sample mean: {:.2f} grams\".format(sample_mean))\n",
    "print(\"Sample standard deviation: {:.2f} grams\".format(sample_std))\n",
    "print(\"t-statistic: {:.2f}\".format(t_statistic))\n",
    "print(\"p-value: {:.2e}\".format(p_value))\n",
    "\n",
    "# Set the significance level (alpha)\n",
    "alpha = 0.05\n",
    "\n",
    "# Check if the p-value is smaller than or equal to alpha\n",
    "if p_value <= alpha:\n",
    "    print(\"Reject the null hypothesis\")\n",
    "else:\n",
    "    print(\"Accept the null hypothesis\")"
   ]
  },
  {
   "cell_type": "markdown",
   "id": "c7c3b0e8",
   "metadata": {},
   "source": [
    "\n",
    "# Z-Score "
   ]
  },
  {
   "cell_type": "code",
   "execution_count": 39,
   "id": "db706069",
   "metadata": {},
   "outputs": [],
   "source": [
    "# Create a sample dataset of player statistics\n",
    "player_data2= pd.DataFrame({\n",
    "    'Player': ['Player A', 'Player B'],\n",
    "    'Points': [5, 10],\n",
    "    'Rebounds': [10, 8],\n",
    "    'Assists': [5, 10]\n",
    "})"
   ]
  },
  {
   "cell_type": "code",
   "execution_count": 40,
   "id": "36f46b55",
   "metadata": {},
   "outputs": [
    {
     "data": {
      "text/html": [
       "<div>\n",
       "<style scoped>\n",
       "    .dataframe tbody tr th:only-of-type {\n",
       "        vertical-align: middle;\n",
       "    }\n",
       "\n",
       "    .dataframe tbody tr th {\n",
       "        vertical-align: top;\n",
       "    }\n",
       "\n",
       "    .dataframe thead th {\n",
       "        text-align: right;\n",
       "    }\n",
       "</style>\n",
       "<table border=\"1\" class=\"dataframe\">\n",
       "  <thead>\n",
       "    <tr style=\"text-align: right;\">\n",
       "      <th></th>\n",
       "      <th>Player</th>\n",
       "      <th>Points</th>\n",
       "      <th>Rebounds</th>\n",
       "      <th>Assists</th>\n",
       "    </tr>\n",
       "  </thead>\n",
       "  <tbody>\n",
       "    <tr>\n",
       "      <th>0</th>\n",
       "      <td>Player A</td>\n",
       "      <td>5</td>\n",
       "      <td>10</td>\n",
       "      <td>5</td>\n",
       "    </tr>\n",
       "    <tr>\n",
       "      <th>1</th>\n",
       "      <td>Player B</td>\n",
       "      <td>10</td>\n",
       "      <td>8</td>\n",
       "      <td>10</td>\n",
       "    </tr>\n",
       "  </tbody>\n",
       "</table>\n",
       "</div>"
      ],
      "text/plain": [
       "     Player  Points  Rebounds  Assists\n",
       "0  Player A       5        10        5\n",
       "1  Player B      10         8       10"
      ]
     },
     "execution_count": 40,
     "metadata": {},
     "output_type": "execute_result"
    }
   ],
   "source": [
    "player_data2"
   ]
  },
  {
   "cell_type": "code",
   "execution_count": 42,
   "id": "7d1248db",
   "metadata": {},
   "outputs": [],
   "source": [
    "# Calculate the mean and standard deviation of the Points column\n",
    "points_mean2 = player_data2['Points'].mean()\n",
    "points_std2 = player_data2['Points'].std()"
   ]
  },
  {
   "cell_type": "code",
   "execution_count": 43,
   "id": "3a240362",
   "metadata": {},
   "outputs": [
    {
     "data": {
      "text/plain": [
       "3.5355339059327378"
      ]
     },
     "execution_count": 43,
     "metadata": {},
     "output_type": "execute_result"
    }
   ],
   "source": [
    "points_std2"
   ]
  },
  {
   "cell_type": "code",
   "execution_count": 44,
   "id": "7d16807f",
   "metadata": {},
   "outputs": [
    {
     "data": {
      "text/plain": [
       "7.5"
      ]
     },
     "execution_count": 44,
     "metadata": {},
     "output_type": "execute_result"
    }
   ],
   "source": [
    "points_mean2"
   ]
  },
  {
   "cell_type": "code",
   "execution_count": 45,
   "id": "504b559f",
   "metadata": {},
   "outputs": [],
   "source": [
    "# Calculate the z-score for each player's Points\n",
    "player_data2['Points z-score'] = (player_data2['Points'] - points_mean2) / points_std2"
   ]
  },
  {
   "cell_type": "code",
   "execution_count": 46,
   "id": "26389bb9",
   "metadata": {},
   "outputs": [
    {
     "data": {
      "text/html": [
       "<div>\n",
       "<style scoped>\n",
       "    .dataframe tbody tr th:only-of-type {\n",
       "        vertical-align: middle;\n",
       "    }\n",
       "\n",
       "    .dataframe tbody tr th {\n",
       "        vertical-align: top;\n",
       "    }\n",
       "\n",
       "    .dataframe thead th {\n",
       "        text-align: right;\n",
       "    }\n",
       "</style>\n",
       "<table border=\"1\" class=\"dataframe\">\n",
       "  <thead>\n",
       "    <tr style=\"text-align: right;\">\n",
       "      <th></th>\n",
       "      <th>Player</th>\n",
       "      <th>Points</th>\n",
       "      <th>Rebounds</th>\n",
       "      <th>Assists</th>\n",
       "      <th>Points z-score</th>\n",
       "    </tr>\n",
       "  </thead>\n",
       "  <tbody>\n",
       "    <tr>\n",
       "      <th>0</th>\n",
       "      <td>Player A</td>\n",
       "      <td>5</td>\n",
       "      <td>10</td>\n",
       "      <td>5</td>\n",
       "      <td>-0.707107</td>\n",
       "    </tr>\n",
       "    <tr>\n",
       "      <th>1</th>\n",
       "      <td>Player B</td>\n",
       "      <td>10</td>\n",
       "      <td>8</td>\n",
       "      <td>10</td>\n",
       "      <td>0.707107</td>\n",
       "    </tr>\n",
       "  </tbody>\n",
       "</table>\n",
       "</div>"
      ],
      "text/plain": [
       "     Player  Points  Rebounds  Assists  Points z-score\n",
       "0  Player A       5        10        5       -0.707107\n",
       "1  Player B      10         8       10        0.707107"
      ]
     },
     "execution_count": 46,
     "metadata": {},
     "output_type": "execute_result"
    }
   ],
   "source": [
    "# Print the player data with z-scores\n",
    "player_data2"
   ]
  },
  {
   "cell_type": "markdown",
   "id": "c72550fd",
   "metadata": {},
   "source": [
    "\n",
    "# A/B Testing "
   ]
  },
  {
   "cell_type": "code",
   "execution_count": 47,
   "id": "28ecb661",
   "metadata": {},
   "outputs": [],
   "source": [
    "import numpy as np\n",
    "from scipy import stats"
   ]
  },
  {
   "cell_type": "code",
   "execution_count": 66,
   "id": "661f253d",
   "metadata": {},
   "outputs": [],
   "source": [
    "group_a = np.array([10, 12, 15, 14, 11, 9, 13, 16, 18, 17])\n",
    "group_b = np.array([8, 9, 7, 10, 12, 11, 9, 8, 10, 11])"
   ]
  },
  {
   "cell_type": "code",
   "execution_count": 67,
   "id": "e4209743",
   "metadata": {},
   "outputs": [
    {
     "data": {
      "text/plain": [
       "array([10, 12, 15, 14, 11,  9, 13, 16, 18, 17])"
      ]
     },
     "execution_count": 67,
     "metadata": {},
     "output_type": "execute_result"
    }
   ],
   "source": [
    "group_a"
   ]
  },
  {
   "cell_type": "code",
   "execution_count": 68,
   "id": "2b7ba8f8",
   "metadata": {},
   "outputs": [
    {
     "data": {
      "text/plain": [
       "array([ 8,  9,  7, 10, 12, 11,  9,  8, 10, 11])"
      ]
     },
     "execution_count": 68,
     "metadata": {},
     "output_type": "execute_result"
    }
   ],
   "source": [
    "group_b"
   ]
  },
  {
   "cell_type": "code",
   "execution_count": 69,
   "id": "8469827f",
   "metadata": {},
   "outputs": [
    {
     "data": {
      "text/plain": [
       "13.5"
      ]
     },
     "execution_count": 69,
     "metadata": {},
     "output_type": "execute_result"
    }
   ],
   "source": [
    "group_a.mean()"
   ]
  },
  {
   "cell_type": "code",
   "execution_count": 70,
   "id": "da9f85bf",
   "metadata": {},
   "outputs": [
    {
     "data": {
      "text/plain": [
       "9.5"
      ]
     },
     "execution_count": 70,
     "metadata": {},
     "output_type": "execute_result"
    }
   ],
   "source": [
    "group_b.mean()"
   ]
  },
  {
   "cell_type": "code",
   "execution_count": 71,
   "id": "532a91ca",
   "metadata": {},
   "outputs": [],
   "source": [
    "null_hypothesis = \"old_design is  better than new_design\"\n",
    "alternative_hypothesis = \"old_design is not better than new_design\""
   ]
  },
  {
   "cell_type": "code",
   "execution_count": 73,
   "id": "10732277",
   "metadata": {},
   "outputs": [],
   "source": [
    "z_statistic,p_value = stats.ttest_1samp(group_a - group_b,0, alternative='greater')"
   ]
  },
  {
   "cell_type": "code",
   "execution_count": 65,
   "id": "4b116c83",
   "metadata": {},
   "outputs": [
    {
     "data": {
      "text/plain": [
       "3.493335058437492"
      ]
     },
     "execution_count": 65,
     "metadata": {},
     "output_type": "execute_result"
    }
   ],
   "source": [
    "z_statistic"
   ]
  },
  {
   "cell_type": "code",
   "execution_count": 64,
   "id": "6c032e3c",
   "metadata": {},
   "outputs": [
    {
     "data": {
      "text/plain": [
       "0.0033971960424628244"
      ]
     },
     "execution_count": 64,
     "metadata": {},
     "output_type": "execute_result"
    }
   ],
   "source": [
    "p_value"
   ]
  },
  {
   "cell_type": "code",
   "execution_count": 55,
   "id": "cbe6dc09",
   "metadata": {},
   "outputs": [],
   "source": [
    "alpha = 0.05"
   ]
  },
  {
   "cell_type": "code",
   "execution_count": 56,
   "id": "ceadebed",
   "metadata": {},
   "outputs": [
    {
     "name": "stdout",
     "output_type": "stream",
     "text": [
      "Reject the null hypothesis\n"
     ]
    }
   ],
   "source": [
    "if p_value < alpha:\n",
    "    print(\"Reject the null hypothesis\")\n",
    "else:\n",
    "    print(\"not reject the null hypothesis\")"
   ]
  },
  {
   "cell_type": "code",
   "execution_count": null,
   "id": "7074a0c5",
   "metadata": {},
   "outputs": [],
   "source": [
    "# Print the test results\n",
    "print(\"Null Hypothesis----->\", null_hypothesis)\n",
    "print(\"Alternative Hypothesis---->:\", alternative_hypothesis)\n",
    "print(\"Z-Statistic---->\", z_statistic)\n",
    "print(\"P-Value---->:\", p_value)"
   ]
  },
  {
   "cell_type": "markdown",
   "id": "0ef0f4a7",
   "metadata": {},
   "source": [
    "# Interval Estimation "
   ]
  },
  {
   "cell_type": "code",
   "execution_count": 74,
   "id": "e9d9baff",
   "metadata": {},
   "outputs": [],
   "source": [
    "import numpy as np\n",
    "import scipy.stats as stats\n",
    "\n",
    "# Generate a hypothetical dataset (sample data)\n",
    "np.random.seed(42)  \n",
    "sample_data = np.random.normal(loc=50, scale=10, size=100)  # Mean=50, Standard Deviation=10, Sample Size or n=100\n"
   ]
  },
  {
   "cell_type": "code",
   "execution_count": 75,
   "id": "cc8bbaad",
   "metadata": {},
   "outputs": [
    {
     "data": {
      "text/plain": [
       "array([54.96714153, 48.61735699, 56.47688538, 65.23029856, 47.65846625,\n",
       "       47.65863043, 65.79212816, 57.67434729, 45.30525614, 55.42560044,\n",
       "       45.36582307, 45.34270246, 52.41962272, 30.86719755, 32.75082167,\n",
       "       44.37712471, 39.8716888 , 53.14247333, 40.91975924, 35.87696299,\n",
       "       64.65648769, 47.742237  , 50.67528205, 35.75251814, 44.55617275,\n",
       "       51.1092259 , 38.49006423, 53.75698018, 43.9936131 , 47.0830625 ,\n",
       "       43.98293388, 68.52278185, 49.86502775, 39.42289071, 58.22544912,\n",
       "       37.7915635 , 52.08863595, 30.40329876, 36.71813951, 51.96861236,\n",
       "       57.3846658 , 51.71368281, 48.84351718, 46.98896304, 35.2147801 ,\n",
       "       42.80155792, 45.39361229, 60.57122226, 53.4361829 , 32.36959845,\n",
       "       53.24083969, 46.1491772 , 43.23078   , 56.11676289, 60.30999522,\n",
       "       59.31280119, 41.60782477, 46.90787624, 53.31263431, 59.75545127,\n",
       "       45.20825762, 48.14341023, 38.93665026, 38.03793376, 58.12525822,\n",
       "       63.56240029, 49.27989878, 60.03532898, 53.61636025, 43.54880245,\n",
       "       53.61395606, 65.38036566, 49.64173961, 65.64643656, 23.80254896,\n",
       "       58.21902504, 50.87047068, 47.0099265 , 50.91760777, 30.12431085,\n",
       "       47.80328112, 53.57112572, 64.77894045, 44.81729782, 41.91506397,\n",
       "       44.98242956, 59.15402118, 53.2875111 , 44.70239796, 55.13267433,\n",
       "       50.97077549, 59.68644991, 42.97946906, 46.72337853, 46.07891847,\n",
       "       35.36485052, 52.96120277, 52.61055272, 50.05113457, 47.65412867])"
      ]
     },
     "execution_count": 75,
     "metadata": {},
     "output_type": "execute_result"
    }
   ],
   "source": [
    "sample_data"
   ]
  },
  {
   "cell_type": "code",
   "execution_count": 76,
   "id": "3a908cd3",
   "metadata": {},
   "outputs": [
    {
     "data": {
      "text/html": [
       "<div>\n",
       "<style scoped>\n",
       "    .dataframe tbody tr th:only-of-type {\n",
       "        vertical-align: middle;\n",
       "    }\n",
       "\n",
       "    .dataframe tbody tr th {\n",
       "        vertical-align: top;\n",
       "    }\n",
       "\n",
       "    .dataframe thead th {\n",
       "        text-align: right;\n",
       "    }\n",
       "</style>\n",
       "<table border=\"1\" class=\"dataframe\">\n",
       "  <thead>\n",
       "    <tr style=\"text-align: right;\">\n",
       "      <th></th>\n",
       "      <th>0</th>\n",
       "    </tr>\n",
       "  </thead>\n",
       "  <tbody>\n",
       "    <tr>\n",
       "      <th>0</th>\n",
       "      <td>54.967142</td>\n",
       "    </tr>\n",
       "    <tr>\n",
       "      <th>1</th>\n",
       "      <td>48.617357</td>\n",
       "    </tr>\n",
       "    <tr>\n",
       "      <th>2</th>\n",
       "      <td>56.476885</td>\n",
       "    </tr>\n",
       "    <tr>\n",
       "      <th>3</th>\n",
       "      <td>65.230299</td>\n",
       "    </tr>\n",
       "    <tr>\n",
       "      <th>4</th>\n",
       "      <td>47.658466</td>\n",
       "    </tr>\n",
       "    <tr>\n",
       "      <th>...</th>\n",
       "      <td>...</td>\n",
       "    </tr>\n",
       "    <tr>\n",
       "      <th>95</th>\n",
       "      <td>35.364851</td>\n",
       "    </tr>\n",
       "    <tr>\n",
       "      <th>96</th>\n",
       "      <td>52.961203</td>\n",
       "    </tr>\n",
       "    <tr>\n",
       "      <th>97</th>\n",
       "      <td>52.610553</td>\n",
       "    </tr>\n",
       "    <tr>\n",
       "      <th>98</th>\n",
       "      <td>50.051135</td>\n",
       "    </tr>\n",
       "    <tr>\n",
       "      <th>99</th>\n",
       "      <td>47.654129</td>\n",
       "    </tr>\n",
       "  </tbody>\n",
       "</table>\n",
       "<p>100 rows × 1 columns</p>\n",
       "</div>"
      ],
      "text/plain": [
       "            0\n",
       "0   54.967142\n",
       "1   48.617357\n",
       "2   56.476885\n",
       "3   65.230299\n",
       "4   47.658466\n",
       "..        ...\n",
       "95  35.364851\n",
       "96  52.961203\n",
       "97  52.610553\n",
       "98  50.051135\n",
       "99  47.654129\n",
       "\n",
       "[100 rows x 1 columns]"
      ]
     },
     "execution_count": 76,
     "metadata": {},
     "output_type": "execute_result"
    }
   ],
   "source": [
    "pd.DataFrame(sample_data)"
   ]
  },
  {
   "cell_type": "code",
   "execution_count": 77,
   "id": "cdc58a3b",
   "metadata": {},
   "outputs": [],
   "source": [
    "\n",
    "# Calculate the sample mean and standard error of the mean (SEM)\n",
    "sample_mean = np.mean(sample_data)\n",
    "sample_size = len(sample_data)\n",
    "sem = stats.sem(sample_data)\n",
    "\n"
   ]
  },
  {
   "cell_type": "code",
   "execution_count": 78,
   "id": "ce4e0e76",
   "metadata": {},
   "outputs": [
    {
     "data": {
      "text/plain": [
       "48.96153482605907"
      ]
     },
     "execution_count": 78,
     "metadata": {},
     "output_type": "execute_result"
    }
   ],
   "source": [
    "sample_mean"
   ]
  },
  {
   "cell_type": "code",
   "execution_count": 79,
   "id": "1366e9bd",
   "metadata": {},
   "outputs": [
    {
     "data": {
      "text/plain": [
       "100"
      ]
     },
     "execution_count": 79,
     "metadata": {},
     "output_type": "execute_result"
    }
   ],
   "source": [
    "sample_size"
   ]
  },
  {
   "cell_type": "code",
   "execution_count": 80,
   "id": "2a02194f",
   "metadata": {},
   "outputs": [
    {
     "data": {
      "text/plain": [
       "0.9081684280078008"
      ]
     },
     "execution_count": 80,
     "metadata": {},
     "output_type": "execute_result"
    }
   ],
   "source": [
    "sem"
   ]
  },
  {
   "cell_type": "code",
   "execution_count": 82,
   "id": "6a2fb85d",
   "metadata": {},
   "outputs": [],
   "source": [
    "# Set the confidence level (e.g., 95% confidence interval)\n",
    "confidence_level = 0.95\n"
   ]
  },
  {
   "cell_type": "code",
   "execution_count": 83,
   "id": "363f24cc",
   "metadata": {},
   "outputs": [],
   "source": [
    "# Calculate the margin of error\n",
    "margin_of_error = sem * stats.t.ppf((1 + confidence_level) / 2, sample_size - 1)"
   ]
  },
  {
   "cell_type": "code",
   "execution_count": 84,
   "id": "976c7332",
   "metadata": {},
   "outputs": [
    {
     "data": {
      "text/plain": [
       "1.8020031896780713"
      ]
     },
     "execution_count": 84,
     "metadata": {},
     "output_type": "execute_result"
    }
   ],
   "source": [
    "margin_of_error"
   ]
  },
  {
   "cell_type": "code",
   "execution_count": 85,
   "id": "2fa33948",
   "metadata": {},
   "outputs": [],
   "source": [
    "# Calculate the confidence interval\n",
    "confidence_interval = (sample_mean - margin_of_error, sample_mean + margin_of_error)\n"
   ]
  },
  {
   "cell_type": "code",
   "execution_count": 86,
   "id": "d57b2558",
   "metadata": {},
   "outputs": [
    {
     "data": {
      "text/plain": [
       "(47.159531636381004, 50.76353801573714)"
      ]
     },
     "execution_count": 86,
     "metadata": {},
     "output_type": "execute_result"
    }
   ],
   "source": [
    "confidence_interval"
   ]
  },
  {
   "cell_type": "code",
   "execution_count": 89,
   "id": "8c22bf48",
   "metadata": {},
   "outputs": [
    {
     "name": "stdout",
     "output_type": "stream",
     "text": [
      "Sample mean: 48.96\n",
      "Sample size: 100\n",
      "Standard Error of the Mean (SEM): 0.91\n",
      "Confidence Level: 0.95\n",
      "Margin of Error: 1.80\n",
      "Confidence Interval: (47.16, 50.76)\n"
     ]
    }
   ],
   "source": [
    "# Print the results\n",
    "print(\"Sample mean: {:.2f}\".format(sample_mean))\n",
    "print(\"Sample size: {}\".format(sample_size))\n",
    "print(\"Standard Error of the Mean (SEM): {:.2f}\".format(sem))\n",
    "print(\"Confidence Level: {:.2f}\".format(confidence_level))\n",
    "print(\"Margin of Error: {:.2f}\".format(margin_of_error))\n",
    "print(\"Confidence Interval: ({:.2f}, {:.2f})\".format(confidence_interval[0], confidence_interval[1]))\n"
   ]
  },
  {
   "cell_type": "code",
   "execution_count": 92,
   "id": "985737e9",
   "metadata": {},
   "outputs": [
    {
     "name": "stdout",
     "output_type": "stream",
     "text": [
      "confidence_leve: 0.95\n"
     ]
    }
   ],
   "source": [
    "print(\"confidence_leve:\",confidence_level)"
   ]
  },
  {
   "cell_type": "code",
   "execution_count": null,
   "id": "0d872468-58cc-4dd3-b5c9-4f417d1c4359",
   "metadata": {},
   "outputs": [],
   "source": []
  }
 ],
 "metadata": {
  "kernelspec": {
   "display_name": "Python 3 (ipykernel)",
   "language": "python",
   "name": "python3"
  },
  "language_info": {
   "codemirror_mode": {
    "name": "ipython",
    "version": 3
   },
   "file_extension": ".py",
   "mimetype": "text/x-python",
   "name": "python",
   "nbconvert_exporter": "python",
   "pygments_lexer": "ipython3",
   "version": "3.11.7"
  }
 },
 "nbformat": 4,
 "nbformat_minor": 5
}
