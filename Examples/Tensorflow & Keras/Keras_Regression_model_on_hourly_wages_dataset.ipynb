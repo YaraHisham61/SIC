{
  "nbformat": 4,
  "nbformat_minor": 0,
  "metadata": {
    "colab": {
      "provenance": []
    },
    "kernelspec": {
      "name": "python3",
      "display_name": "Python 3"
    },
    "language_info": {
      "name": "python"
    }
  },
  "cells": [
    {
      "cell_type": "code",
      "execution_count": null,
      "metadata": {
        "id": "o1rgOntDhi1P"
      },
      "outputs": [],
      "source": [
        "import pandas as pd\n",
        "import numpy as np\n",
        "import matplotlib.pyplot as plt\n",
        "import seaborn as sns\n",
        "import tensorflow"
      ]
    },
    {
      "cell_type": "code",
      "source": [
        "df=pd.read_csv('/content/hourly_wages.csv')\n",
        "df.head()"
      ],
      "metadata": {
        "colab": {
          "base_uri": "https://localhost:8080/",
          "height": 206
        },
        "id": "23ef15dRjVHu",
        "outputId": "6b5b4abe-a309-46d8-d8b8-26a4ce6aaa5d"
      },
      "execution_count": null,
      "outputs": [
        {
          "output_type": "execute_result",
          "data": {
            "text/plain": [
              "   wage_per_hour  union  education_yrs  experience_yrs  age  female  marr  \\\n",
              "0           5.10      0              8              21   35       1     1   \n",
              "1           4.95      0              9              42   57       1     1   \n",
              "2           6.67      0             12               1   19       0     0   \n",
              "3           4.00      0             12               4   22       0     0   \n",
              "4           7.50      0             12              17   35       0     1   \n",
              "\n",
              "   south  manufacturing  construction  \n",
              "0      0              1             0  \n",
              "1      0              1             0  \n",
              "2      0              1             0  \n",
              "3      0              0             0  \n",
              "4      0              0             0  "
            ],
            "text/html": [
              "\n",
              "\n",
              "  <div id=\"df-ed604cd8-83b8-468a-9e34-1ed642488532\">\n",
              "    <div class=\"colab-df-container\">\n",
              "      <div>\n",
              "<style scoped>\n",
              "    .dataframe tbody tr th:only-of-type {\n",
              "        vertical-align: middle;\n",
              "    }\n",
              "\n",
              "    .dataframe tbody tr th {\n",
              "        vertical-align: top;\n",
              "    }\n",
              "\n",
              "    .dataframe thead th {\n",
              "        text-align: right;\n",
              "    }\n",
              "</style>\n",
              "<table border=\"1\" class=\"dataframe\">\n",
              "  <thead>\n",
              "    <tr style=\"text-align: right;\">\n",
              "      <th></th>\n",
              "      <th>wage_per_hour</th>\n",
              "      <th>union</th>\n",
              "      <th>education_yrs</th>\n",
              "      <th>experience_yrs</th>\n",
              "      <th>age</th>\n",
              "      <th>female</th>\n",
              "      <th>marr</th>\n",
              "      <th>south</th>\n",
              "      <th>manufacturing</th>\n",
              "      <th>construction</th>\n",
              "    </tr>\n",
              "  </thead>\n",
              "  <tbody>\n",
              "    <tr>\n",
              "      <th>0</th>\n",
              "      <td>5.10</td>\n",
              "      <td>0</td>\n",
              "      <td>8</td>\n",
              "      <td>21</td>\n",
              "      <td>35</td>\n",
              "      <td>1</td>\n",
              "      <td>1</td>\n",
              "      <td>0</td>\n",
              "      <td>1</td>\n",
              "      <td>0</td>\n",
              "    </tr>\n",
              "    <tr>\n",
              "      <th>1</th>\n",
              "      <td>4.95</td>\n",
              "      <td>0</td>\n",
              "      <td>9</td>\n",
              "      <td>42</td>\n",
              "      <td>57</td>\n",
              "      <td>1</td>\n",
              "      <td>1</td>\n",
              "      <td>0</td>\n",
              "      <td>1</td>\n",
              "      <td>0</td>\n",
              "    </tr>\n",
              "    <tr>\n",
              "      <th>2</th>\n",
              "      <td>6.67</td>\n",
              "      <td>0</td>\n",
              "      <td>12</td>\n",
              "      <td>1</td>\n",
              "      <td>19</td>\n",
              "      <td>0</td>\n",
              "      <td>0</td>\n",
              "      <td>0</td>\n",
              "      <td>1</td>\n",
              "      <td>0</td>\n",
              "    </tr>\n",
              "    <tr>\n",
              "      <th>3</th>\n",
              "      <td>4.00</td>\n",
              "      <td>0</td>\n",
              "      <td>12</td>\n",
              "      <td>4</td>\n",
              "      <td>22</td>\n",
              "      <td>0</td>\n",
              "      <td>0</td>\n",
              "      <td>0</td>\n",
              "      <td>0</td>\n",
              "      <td>0</td>\n",
              "    </tr>\n",
              "    <tr>\n",
              "      <th>4</th>\n",
              "      <td>7.50</td>\n",
              "      <td>0</td>\n",
              "      <td>12</td>\n",
              "      <td>17</td>\n",
              "      <td>35</td>\n",
              "      <td>0</td>\n",
              "      <td>1</td>\n",
              "      <td>0</td>\n",
              "      <td>0</td>\n",
              "      <td>0</td>\n",
              "    </tr>\n",
              "  </tbody>\n",
              "</table>\n",
              "</div>\n",
              "      <button class=\"colab-df-convert\" onclick=\"convertToInteractive('df-ed604cd8-83b8-468a-9e34-1ed642488532')\"\n",
              "              title=\"Convert this dataframe to an interactive table.\"\n",
              "              style=\"display:none;\">\n",
              "\n",
              "  <svg xmlns=\"http://www.w3.org/2000/svg\" height=\"24px\"viewBox=\"0 0 24 24\"\n",
              "       width=\"24px\">\n",
              "    <path d=\"M0 0h24v24H0V0z\" fill=\"none\"/>\n",
              "    <path d=\"M18.56 5.44l.94 2.06.94-2.06 2.06-.94-2.06-.94-.94-2.06-.94 2.06-2.06.94zm-11 1L8.5 8.5l.94-2.06 2.06-.94-2.06-.94L8.5 2.5l-.94 2.06-2.06.94zm10 10l.94 2.06.94-2.06 2.06-.94-2.06-.94-.94-2.06-.94 2.06-2.06.94z\"/><path d=\"M17.41 7.96l-1.37-1.37c-.4-.4-.92-.59-1.43-.59-.52 0-1.04.2-1.43.59L10.3 9.45l-7.72 7.72c-.78.78-.78 2.05 0 2.83L4 21.41c.39.39.9.59 1.41.59.51 0 1.02-.2 1.41-.59l7.78-7.78 2.81-2.81c.8-.78.8-2.07 0-2.86zM5.41 20L4 18.59l7.72-7.72 1.47 1.35L5.41 20z\"/>\n",
              "  </svg>\n",
              "      </button>\n",
              "\n",
              "\n",
              "\n",
              "    <div id=\"df-dcd58e37-9462-4297-96d4-96fe2f43f234\">\n",
              "      <button class=\"colab-df-quickchart\" onclick=\"quickchart('df-dcd58e37-9462-4297-96d4-96fe2f43f234')\"\n",
              "              title=\"Suggest charts.\"\n",
              "              style=\"display:none;\">\n",
              "\n",
              "<svg xmlns=\"http://www.w3.org/2000/svg\" height=\"24px\"viewBox=\"0 0 24 24\"\n",
              "     width=\"24px\">\n",
              "    <g>\n",
              "        <path d=\"M19 3H5c-1.1 0-2 .9-2 2v14c0 1.1.9 2 2 2h14c1.1 0 2-.9 2-2V5c0-1.1-.9-2-2-2zM9 17H7v-7h2v7zm4 0h-2V7h2v10zm4 0h-2v-4h2v4z\"/>\n",
              "    </g>\n",
              "</svg>\n",
              "      </button>\n",
              "    </div>\n",
              "\n",
              "<style>\n",
              "  .colab-df-quickchart {\n",
              "    background-color: #E8F0FE;\n",
              "    border: none;\n",
              "    border-radius: 50%;\n",
              "    cursor: pointer;\n",
              "    display: none;\n",
              "    fill: #1967D2;\n",
              "    height: 32px;\n",
              "    padding: 0 0 0 0;\n",
              "    width: 32px;\n",
              "  }\n",
              "\n",
              "  .colab-df-quickchart:hover {\n",
              "    background-color: #E2EBFA;\n",
              "    box-shadow: 0px 1px 2px rgba(60, 64, 67, 0.3), 0px 1px 3px 1px rgba(60, 64, 67, 0.15);\n",
              "    fill: #174EA6;\n",
              "  }\n",
              "\n",
              "  [theme=dark] .colab-df-quickchart {\n",
              "    background-color: #3B4455;\n",
              "    fill: #D2E3FC;\n",
              "  }\n",
              "\n",
              "  [theme=dark] .colab-df-quickchart:hover {\n",
              "    background-color: #434B5C;\n",
              "    box-shadow: 0px 1px 3px 1px rgba(0, 0, 0, 0.15);\n",
              "    filter: drop-shadow(0px 1px 2px rgba(0, 0, 0, 0.3));\n",
              "    fill: #FFFFFF;\n",
              "  }\n",
              "</style>\n",
              "\n",
              "    <script>\n",
              "      async function quickchart(key) {\n",
              "        const containerElement = document.querySelector('#' + key);\n",
              "        const charts = await google.colab.kernel.invokeFunction(\n",
              "            'suggestCharts', [key], {});\n",
              "      }\n",
              "    </script>\n",
              "\n",
              "      <script>\n",
              "\n",
              "function displayQuickchartButton(domScope) {\n",
              "  let quickchartButtonEl =\n",
              "    domScope.querySelector('#df-dcd58e37-9462-4297-96d4-96fe2f43f234 button.colab-df-quickchart');\n",
              "  quickchartButtonEl.style.display =\n",
              "    google.colab.kernel.accessAllowed ? 'block' : 'none';\n",
              "}\n",
              "\n",
              "        displayQuickchartButton(document);\n",
              "      </script>\n",
              "      <style>\n",
              "    .colab-df-container {\n",
              "      display:flex;\n",
              "      flex-wrap:wrap;\n",
              "      gap: 12px;\n",
              "    }\n",
              "\n",
              "    .colab-df-convert {\n",
              "      background-color: #E8F0FE;\n",
              "      border: none;\n",
              "      border-radius: 50%;\n",
              "      cursor: pointer;\n",
              "      display: none;\n",
              "      fill: #1967D2;\n",
              "      height: 32px;\n",
              "      padding: 0 0 0 0;\n",
              "      width: 32px;\n",
              "    }\n",
              "\n",
              "    .colab-df-convert:hover {\n",
              "      background-color: #E2EBFA;\n",
              "      box-shadow: 0px 1px 2px rgba(60, 64, 67, 0.3), 0px 1px 3px 1px rgba(60, 64, 67, 0.15);\n",
              "      fill: #174EA6;\n",
              "    }\n",
              "\n",
              "    [theme=dark] .colab-df-convert {\n",
              "      background-color: #3B4455;\n",
              "      fill: #D2E3FC;\n",
              "    }\n",
              "\n",
              "    [theme=dark] .colab-df-convert:hover {\n",
              "      background-color: #434B5C;\n",
              "      box-shadow: 0px 1px 3px 1px rgba(0, 0, 0, 0.15);\n",
              "      filter: drop-shadow(0px 1px 2px rgba(0, 0, 0, 0.3));\n",
              "      fill: #FFFFFF;\n",
              "    }\n",
              "  </style>\n",
              "\n",
              "      <script>\n",
              "        const buttonEl =\n",
              "          document.querySelector('#df-ed604cd8-83b8-468a-9e34-1ed642488532 button.colab-df-convert');\n",
              "        buttonEl.style.display =\n",
              "          google.colab.kernel.accessAllowed ? 'block' : 'none';\n",
              "\n",
              "        async function convertToInteractive(key) {\n",
              "          const element = document.querySelector('#df-ed604cd8-83b8-468a-9e34-1ed642488532');\n",
              "          const dataTable =\n",
              "            await google.colab.kernel.invokeFunction('convertToInteractive',\n",
              "                                                     [key], {});\n",
              "          if (!dataTable) return;\n",
              "\n",
              "          const docLinkHtml = 'Like what you see? Visit the ' +\n",
              "            '<a target=\"_blank\" href=https://colab.research.google.com/notebooks/data_table.ipynb>data table notebook</a>'\n",
              "            + ' to learn more about interactive tables.';\n",
              "          element.innerHTML = '';\n",
              "          dataTable['output_type'] = 'display_data';\n",
              "          await google.colab.output.renderOutput(dataTable, element);\n",
              "          const docLink = document.createElement('div');\n",
              "          docLink.innerHTML = docLinkHtml;\n",
              "          element.appendChild(docLink);\n",
              "        }\n",
              "      </script>\n",
              "    </div>\n",
              "  </div>\n"
            ]
          },
          "metadata": {},
          "execution_count": 44
        }
      ]
    },
    {
      "cell_type": "code",
      "source": [
        "df.info()"
      ],
      "metadata": {
        "colab": {
          "base_uri": "https://localhost:8080/"
        },
        "id": "fRmF8yvNjjH8",
        "outputId": "7180eb7e-adcd-44a8-8d93-cb48f689a7e6"
      },
      "execution_count": null,
      "outputs": [
        {
          "output_type": "stream",
          "name": "stdout",
          "text": [
            "<class 'pandas.core.frame.DataFrame'>\n",
            "RangeIndex: 534 entries, 0 to 533\n",
            "Data columns (total 10 columns):\n",
            " #   Column          Non-Null Count  Dtype  \n",
            "---  ------          --------------  -----  \n",
            " 0   wage_per_hour   534 non-null    float64\n",
            " 1   union           534 non-null    int64  \n",
            " 2   education_yrs   534 non-null    int64  \n",
            " 3   experience_yrs  534 non-null    int64  \n",
            " 4   age             534 non-null    int64  \n",
            " 5   female          534 non-null    int64  \n",
            " 6   marr            534 non-null    int64  \n",
            " 7   south           534 non-null    int64  \n",
            " 8   manufacturing   534 non-null    int64  \n",
            " 9   construction    534 non-null    int64  \n",
            "dtypes: float64(1), int64(9)\n",
            "memory usage: 41.8 KB\n"
          ]
        }
      ]
    },
    {
      "cell_type": "code",
      "source": [
        "X=df.iloc[:,1:]\n",
        "y=df['wage_per_hour'].values"
      ],
      "metadata": {
        "id": "zEfiqWOYjpj7"
      },
      "execution_count": null,
      "outputs": []
    },
    {
      "cell_type": "code",
      "source": [
        "X.shape"
      ],
      "metadata": {
        "colab": {
          "base_uri": "https://localhost:8080/"
        },
        "id": "R1XfmYQPlBVH",
        "outputId": "7796844b-2d9e-4e25-8c7a-8d513cedd18f"
      },
      "execution_count": null,
      "outputs": [
        {
          "output_type": "execute_result",
          "data": {
            "text/plain": [
              "(534, 9)"
            ]
          },
          "metadata": {},
          "execution_count": 47
        }
      ]
    },
    {
      "cell_type": "code",
      "source": [
        "X"
      ],
      "metadata": {
        "colab": {
          "base_uri": "https://localhost:8080/",
          "height": 423
        },
        "id": "DhIXWyDJjzoL",
        "outputId": "cd83d12e-34aa-4bc7-c853-10b716ca53db"
      },
      "execution_count": null,
      "outputs": [
        {
          "output_type": "execute_result",
          "data": {
            "text/plain": [
              "     union  education_yrs  experience_yrs  age  female  marr  south  \\\n",
              "0        0              8              21   35       1     1      0   \n",
              "1        0              9              42   57       1     1      0   \n",
              "2        0             12               1   19       0     0      0   \n",
              "3        0             12               4   22       0     0      0   \n",
              "4        0             12              17   35       0     1      0   \n",
              "..     ...            ...             ...  ...     ...   ...    ...   \n",
              "529      0             18               5   29       0     0      0   \n",
              "530      0             12              33   51       1     1      0   \n",
              "531      1             17              25   48       1     1      0   \n",
              "532      1             12              13   31       0     1      1   \n",
              "533      0             16              33   55       0     1      0   \n",
              "\n",
              "     manufacturing  construction  \n",
              "0                1             0  \n",
              "1                1             0  \n",
              "2                1             0  \n",
              "3                0             0  \n",
              "4                0             0  \n",
              "..             ...           ...  \n",
              "529              0             0  \n",
              "530              0             0  \n",
              "531              0             0  \n",
              "532              0             0  \n",
              "533              1             0  \n",
              "\n",
              "[534 rows x 9 columns]"
            ],
            "text/html": [
              "\n",
              "\n",
              "  <div id=\"df-915fcc95-cc36-40b9-8cdd-b2f1e765b7d1\">\n",
              "    <div class=\"colab-df-container\">\n",
              "      <div>\n",
              "<style scoped>\n",
              "    .dataframe tbody tr th:only-of-type {\n",
              "        vertical-align: middle;\n",
              "    }\n",
              "\n",
              "    .dataframe tbody tr th {\n",
              "        vertical-align: top;\n",
              "    }\n",
              "\n",
              "    .dataframe thead th {\n",
              "        text-align: right;\n",
              "    }\n",
              "</style>\n",
              "<table border=\"1\" class=\"dataframe\">\n",
              "  <thead>\n",
              "    <tr style=\"text-align: right;\">\n",
              "      <th></th>\n",
              "      <th>union</th>\n",
              "      <th>education_yrs</th>\n",
              "      <th>experience_yrs</th>\n",
              "      <th>age</th>\n",
              "      <th>female</th>\n",
              "      <th>marr</th>\n",
              "      <th>south</th>\n",
              "      <th>manufacturing</th>\n",
              "      <th>construction</th>\n",
              "    </tr>\n",
              "  </thead>\n",
              "  <tbody>\n",
              "    <tr>\n",
              "      <th>0</th>\n",
              "      <td>0</td>\n",
              "      <td>8</td>\n",
              "      <td>21</td>\n",
              "      <td>35</td>\n",
              "      <td>1</td>\n",
              "      <td>1</td>\n",
              "      <td>0</td>\n",
              "      <td>1</td>\n",
              "      <td>0</td>\n",
              "    </tr>\n",
              "    <tr>\n",
              "      <th>1</th>\n",
              "      <td>0</td>\n",
              "      <td>9</td>\n",
              "      <td>42</td>\n",
              "      <td>57</td>\n",
              "      <td>1</td>\n",
              "      <td>1</td>\n",
              "      <td>0</td>\n",
              "      <td>1</td>\n",
              "      <td>0</td>\n",
              "    </tr>\n",
              "    <tr>\n",
              "      <th>2</th>\n",
              "      <td>0</td>\n",
              "      <td>12</td>\n",
              "      <td>1</td>\n",
              "      <td>19</td>\n",
              "      <td>0</td>\n",
              "      <td>0</td>\n",
              "      <td>0</td>\n",
              "      <td>1</td>\n",
              "      <td>0</td>\n",
              "    </tr>\n",
              "    <tr>\n",
              "      <th>3</th>\n",
              "      <td>0</td>\n",
              "      <td>12</td>\n",
              "      <td>4</td>\n",
              "      <td>22</td>\n",
              "      <td>0</td>\n",
              "      <td>0</td>\n",
              "      <td>0</td>\n",
              "      <td>0</td>\n",
              "      <td>0</td>\n",
              "    </tr>\n",
              "    <tr>\n",
              "      <th>4</th>\n",
              "      <td>0</td>\n",
              "      <td>12</td>\n",
              "      <td>17</td>\n",
              "      <td>35</td>\n",
              "      <td>0</td>\n",
              "      <td>1</td>\n",
              "      <td>0</td>\n",
              "      <td>0</td>\n",
              "      <td>0</td>\n",
              "    </tr>\n",
              "    <tr>\n",
              "      <th>...</th>\n",
              "      <td>...</td>\n",
              "      <td>...</td>\n",
              "      <td>...</td>\n",
              "      <td>...</td>\n",
              "      <td>...</td>\n",
              "      <td>...</td>\n",
              "      <td>...</td>\n",
              "      <td>...</td>\n",
              "      <td>...</td>\n",
              "    </tr>\n",
              "    <tr>\n",
              "      <th>529</th>\n",
              "      <td>0</td>\n",
              "      <td>18</td>\n",
              "      <td>5</td>\n",
              "      <td>29</td>\n",
              "      <td>0</td>\n",
              "      <td>0</td>\n",
              "      <td>0</td>\n",
              "      <td>0</td>\n",
              "      <td>0</td>\n",
              "    </tr>\n",
              "    <tr>\n",
              "      <th>530</th>\n",
              "      <td>0</td>\n",
              "      <td>12</td>\n",
              "      <td>33</td>\n",
              "      <td>51</td>\n",
              "      <td>1</td>\n",
              "      <td>1</td>\n",
              "      <td>0</td>\n",
              "      <td>0</td>\n",
              "      <td>0</td>\n",
              "    </tr>\n",
              "    <tr>\n",
              "      <th>531</th>\n",
              "      <td>1</td>\n",
              "      <td>17</td>\n",
              "      <td>25</td>\n",
              "      <td>48</td>\n",
              "      <td>1</td>\n",
              "      <td>1</td>\n",
              "      <td>0</td>\n",
              "      <td>0</td>\n",
              "      <td>0</td>\n",
              "    </tr>\n",
              "    <tr>\n",
              "      <th>532</th>\n",
              "      <td>1</td>\n",
              "      <td>12</td>\n",
              "      <td>13</td>\n",
              "      <td>31</td>\n",
              "      <td>0</td>\n",
              "      <td>1</td>\n",
              "      <td>1</td>\n",
              "      <td>0</td>\n",
              "      <td>0</td>\n",
              "    </tr>\n",
              "    <tr>\n",
              "      <th>533</th>\n",
              "      <td>0</td>\n",
              "      <td>16</td>\n",
              "      <td>33</td>\n",
              "      <td>55</td>\n",
              "      <td>0</td>\n",
              "      <td>1</td>\n",
              "      <td>0</td>\n",
              "      <td>1</td>\n",
              "      <td>0</td>\n",
              "    </tr>\n",
              "  </tbody>\n",
              "</table>\n",
              "<p>534 rows × 9 columns</p>\n",
              "</div>\n",
              "      <button class=\"colab-df-convert\" onclick=\"convertToInteractive('df-915fcc95-cc36-40b9-8cdd-b2f1e765b7d1')\"\n",
              "              title=\"Convert this dataframe to an interactive table.\"\n",
              "              style=\"display:none;\">\n",
              "\n",
              "  <svg xmlns=\"http://www.w3.org/2000/svg\" height=\"24px\"viewBox=\"0 0 24 24\"\n",
              "       width=\"24px\">\n",
              "    <path d=\"M0 0h24v24H0V0z\" fill=\"none\"/>\n",
              "    <path d=\"M18.56 5.44l.94 2.06.94-2.06 2.06-.94-2.06-.94-.94-2.06-.94 2.06-2.06.94zm-11 1L8.5 8.5l.94-2.06 2.06-.94-2.06-.94L8.5 2.5l-.94 2.06-2.06.94zm10 10l.94 2.06.94-2.06 2.06-.94-2.06-.94-.94-2.06-.94 2.06-2.06.94z\"/><path d=\"M17.41 7.96l-1.37-1.37c-.4-.4-.92-.59-1.43-.59-.52 0-1.04.2-1.43.59L10.3 9.45l-7.72 7.72c-.78.78-.78 2.05 0 2.83L4 21.41c.39.39.9.59 1.41.59.51 0 1.02-.2 1.41-.59l7.78-7.78 2.81-2.81c.8-.78.8-2.07 0-2.86zM5.41 20L4 18.59l7.72-7.72 1.47 1.35L5.41 20z\"/>\n",
              "  </svg>\n",
              "      </button>\n",
              "\n",
              "\n",
              "\n",
              "    <div id=\"df-6ff63b02-926c-4629-bd3f-ecce35ceaf79\">\n",
              "      <button class=\"colab-df-quickchart\" onclick=\"quickchart('df-6ff63b02-926c-4629-bd3f-ecce35ceaf79')\"\n",
              "              title=\"Suggest charts.\"\n",
              "              style=\"display:none;\">\n",
              "\n",
              "<svg xmlns=\"http://www.w3.org/2000/svg\" height=\"24px\"viewBox=\"0 0 24 24\"\n",
              "     width=\"24px\">\n",
              "    <g>\n",
              "        <path d=\"M19 3H5c-1.1 0-2 .9-2 2v14c0 1.1.9 2 2 2h14c1.1 0 2-.9 2-2V5c0-1.1-.9-2-2-2zM9 17H7v-7h2v7zm4 0h-2V7h2v10zm4 0h-2v-4h2v4z\"/>\n",
              "    </g>\n",
              "</svg>\n",
              "      </button>\n",
              "    </div>\n",
              "\n",
              "<style>\n",
              "  .colab-df-quickchart {\n",
              "    background-color: #E8F0FE;\n",
              "    border: none;\n",
              "    border-radius: 50%;\n",
              "    cursor: pointer;\n",
              "    display: none;\n",
              "    fill: #1967D2;\n",
              "    height: 32px;\n",
              "    padding: 0 0 0 0;\n",
              "    width: 32px;\n",
              "  }\n",
              "\n",
              "  .colab-df-quickchart:hover {\n",
              "    background-color: #E2EBFA;\n",
              "    box-shadow: 0px 1px 2px rgba(60, 64, 67, 0.3), 0px 1px 3px 1px rgba(60, 64, 67, 0.15);\n",
              "    fill: #174EA6;\n",
              "  }\n",
              "\n",
              "  [theme=dark] .colab-df-quickchart {\n",
              "    background-color: #3B4455;\n",
              "    fill: #D2E3FC;\n",
              "  }\n",
              "\n",
              "  [theme=dark] .colab-df-quickchart:hover {\n",
              "    background-color: #434B5C;\n",
              "    box-shadow: 0px 1px 3px 1px rgba(0, 0, 0, 0.15);\n",
              "    filter: drop-shadow(0px 1px 2px rgba(0, 0, 0, 0.3));\n",
              "    fill: #FFFFFF;\n",
              "  }\n",
              "</style>\n",
              "\n",
              "    <script>\n",
              "      async function quickchart(key) {\n",
              "        const containerElement = document.querySelector('#' + key);\n",
              "        const charts = await google.colab.kernel.invokeFunction(\n",
              "            'suggestCharts', [key], {});\n",
              "      }\n",
              "    </script>\n",
              "\n",
              "      <script>\n",
              "\n",
              "function displayQuickchartButton(domScope) {\n",
              "  let quickchartButtonEl =\n",
              "    domScope.querySelector('#df-6ff63b02-926c-4629-bd3f-ecce35ceaf79 button.colab-df-quickchart');\n",
              "  quickchartButtonEl.style.display =\n",
              "    google.colab.kernel.accessAllowed ? 'block' : 'none';\n",
              "}\n",
              "\n",
              "        displayQuickchartButton(document);\n",
              "      </script>\n",
              "      <style>\n",
              "    .colab-df-container {\n",
              "      display:flex;\n",
              "      flex-wrap:wrap;\n",
              "      gap: 12px;\n",
              "    }\n",
              "\n",
              "    .colab-df-convert {\n",
              "      background-color: #E8F0FE;\n",
              "      border: none;\n",
              "      border-radius: 50%;\n",
              "      cursor: pointer;\n",
              "      display: none;\n",
              "      fill: #1967D2;\n",
              "      height: 32px;\n",
              "      padding: 0 0 0 0;\n",
              "      width: 32px;\n",
              "    }\n",
              "\n",
              "    .colab-df-convert:hover {\n",
              "      background-color: #E2EBFA;\n",
              "      box-shadow: 0px 1px 2px rgba(60, 64, 67, 0.3), 0px 1px 3px 1px rgba(60, 64, 67, 0.15);\n",
              "      fill: #174EA6;\n",
              "    }\n",
              "\n",
              "    [theme=dark] .colab-df-convert {\n",
              "      background-color: #3B4455;\n",
              "      fill: #D2E3FC;\n",
              "    }\n",
              "\n",
              "    [theme=dark] .colab-df-convert:hover {\n",
              "      background-color: #434B5C;\n",
              "      box-shadow: 0px 1px 3px 1px rgba(0, 0, 0, 0.15);\n",
              "      filter: drop-shadow(0px 1px 2px rgba(0, 0, 0, 0.3));\n",
              "      fill: #FFFFFF;\n",
              "    }\n",
              "  </style>\n",
              "\n",
              "      <script>\n",
              "        const buttonEl =\n",
              "          document.querySelector('#df-915fcc95-cc36-40b9-8cdd-b2f1e765b7d1 button.colab-df-convert');\n",
              "        buttonEl.style.display =\n",
              "          google.colab.kernel.accessAllowed ? 'block' : 'none';\n",
              "\n",
              "        async function convertToInteractive(key) {\n",
              "          const element = document.querySelector('#df-915fcc95-cc36-40b9-8cdd-b2f1e765b7d1');\n",
              "          const dataTable =\n",
              "            await google.colab.kernel.invokeFunction('convertToInteractive',\n",
              "                                                     [key], {});\n",
              "          if (!dataTable) return;\n",
              "\n",
              "          const docLinkHtml = 'Like what you see? Visit the ' +\n",
              "            '<a target=\"_blank\" href=https://colab.research.google.com/notebooks/data_table.ipynb>data table notebook</a>'\n",
              "            + ' to learn more about interactive tables.';\n",
              "          element.innerHTML = '';\n",
              "          dataTable['output_type'] = 'display_data';\n",
              "          await google.colab.output.renderOutput(dataTable, element);\n",
              "          const docLink = document.createElement('div');\n",
              "          docLink.innerHTML = docLinkHtml;\n",
              "          element.appendChild(docLink);\n",
              "        }\n",
              "      </script>\n",
              "    </div>\n",
              "  </div>\n"
            ]
          },
          "metadata": {},
          "execution_count": 48
        }
      ]
    },
    {
      "cell_type": "markdown",
      "source": [
        "#Data Preprocessing"
      ],
      "metadata": {
        "id": "NqXNszMfj9ev"
      }
    },
    {
      "cell_type": "code",
      "source": [
        "from sklearn.preprocessing import MinMaxScaler\n",
        "from sklearn.model_selection import train_test_split\n"
      ],
      "metadata": {
        "id": "SKwDlGfwj0iz"
      },
      "execution_count": null,
      "outputs": []
    },
    {
      "cell_type": "code",
      "source": [
        "X_train, X_test, y_train, y_test = train_test_split(X, y, test_size=0.33, random_state=42)"
      ],
      "metadata": {
        "id": "FEVbvaiKkazb"
      },
      "execution_count": null,
      "outputs": []
    },
    {
      "cell_type": "code",
      "source": [
        "scaler=MinMaxScaler()"
      ],
      "metadata": {
        "id": "AZrraqXVkcY5"
      },
      "execution_count": null,
      "outputs": []
    },
    {
      "cell_type": "code",
      "source": [
        "X_train_scaled=scaler.fit_transform(X_train)"
      ],
      "metadata": {
        "id": "uWScy9Elkjw5"
      },
      "execution_count": null,
      "outputs": []
    },
    {
      "cell_type": "code",
      "source": [
        "X_test_scaled=scaler.fit_transform(X_test)"
      ],
      "metadata": {
        "id": "23WoBB3YkmyZ"
      },
      "execution_count": null,
      "outputs": []
    },
    {
      "cell_type": "markdown",
      "source": [
        "#Model"
      ],
      "metadata": {
        "id": "I9Cu9hFakuBk"
      }
    },
    {
      "cell_type": "code",
      "source": [
        "from tensorflow.keras.models import Sequential\n",
        "\n",
        "from tensorflow.keras.layers import Dense,Activation,Dropout"
      ],
      "metadata": {
        "id": "dDHVov4ykqY5"
      },
      "execution_count": null,
      "outputs": []
    },
    {
      "cell_type": "code",
      "source": [
        "model=Sequential()"
      ],
      "metadata": {
        "id": "e2yLEVCqlc9H"
      },
      "execution_count": null,
      "outputs": []
    },
    {
      "cell_type": "code",
      "source": [
        "\n",
        "#Input Layer\n",
        "model.add(Dense(100,activation='relu',input_shape=(9,)))\n",
        "\n",
        "#Hidden Layers\n",
        "model.add(Dense(100,activation='relu',kernel_initializer='random_normal',bias_initializer='ones',kernel_regularizer='l1'))\n",
        "\n",
        "model.add(Dropout(0.3))\n",
        "\n",
        "model.add(Dense(50,activation='relu',kernel_initializer='random_normal',bias_initializer='ones',kernel_regularizer='l1'))\n",
        "\n",
        "model.add(Dropout(0.3))\n",
        "\n",
        "model.add(Dense(30,activation='relu',kernel_initializer='random_normal',bias_initializer='ones',kernel_regularizer='l1'))\n",
        "\n",
        "model.add(Dropout(0.3))\n",
        "\n",
        "model.add(Dense(20,activation='relu',kernel_initializer='random_normal',bias_initializer='ones',kernel_regularizer='l1'))\n",
        "model.add(Dropout(0.3))\n",
        "\n",
        "model.add(Dense(10,activation='relu',kernel_initializer='random_normal',bias_initializer='ones',kernel_regularizer='l1'))\n",
        "\n"
      ],
      "metadata": {
        "id": "5zDEr5Pkl9mG"
      },
      "execution_count": null,
      "outputs": []
    },
    {
      "cell_type": "code",
      "source": [
        "#Output layer\n",
        "model.add(Dense(1))"
      ],
      "metadata": {
        "id": "ZqUOPdtgo3ac"
      },
      "execution_count": null,
      "outputs": []
    },
    {
      "cell_type": "code",
      "source": [
        "model.summary()"
      ],
      "metadata": {
        "colab": {
          "base_uri": "https://localhost:8080/"
        },
        "id": "bE5da3jjpLMb",
        "outputId": "e8480338-744f-4202-8f27-ccbb92e35276"
      },
      "execution_count": null,
      "outputs": [
        {
          "output_type": "stream",
          "name": "stdout",
          "text": [
            "Model: \"sequential_3\"\n",
            "_________________________________________________________________\n",
            " Layer (type)                Output Shape              Param #   \n",
            "=================================================================\n",
            " dense_14 (Dense)            (None, 100)               1000      \n",
            "                                                                 \n",
            " dense_15 (Dense)            (None, 100)               10100     \n",
            "                                                                 \n",
            " dropout_4 (Dropout)         (None, 100)               0         \n",
            "                                                                 \n",
            " dense_16 (Dense)            (None, 50)                5050      \n",
            "                                                                 \n",
            " dropout_5 (Dropout)         (None, 50)                0         \n",
            "                                                                 \n",
            " dense_17 (Dense)            (None, 30)                1530      \n",
            "                                                                 \n",
            " dropout_6 (Dropout)         (None, 30)                0         \n",
            "                                                                 \n",
            " dense_18 (Dense)            (None, 20)                620       \n",
            "                                                                 \n",
            " dropout_7 (Dropout)         (None, 20)                0         \n",
            "                                                                 \n",
            " dense_19 (Dense)            (None, 10)                210       \n",
            "                                                                 \n",
            " dense_20 (Dense)            (None, 1)                 11        \n",
            "                                                                 \n",
            "=================================================================\n",
            "Total params: 18,521\n",
            "Trainable params: 18,521\n",
            "Non-trainable params: 0\n",
            "_________________________________________________________________\n"
          ]
        }
      ]
    },
    {
      "cell_type": "markdown",
      "source": [
        "#Model Compile"
      ],
      "metadata": {
        "id": "jyNkV1hFpsAa"
      }
    },
    {
      "cell_type": "code",
      "source": [
        "model.compile(optimizer='rmsprop',loss='mae')"
      ],
      "metadata": {
        "id": "SpCiqzx6pM4_"
      },
      "execution_count": null,
      "outputs": []
    },
    {
      "cell_type": "code",
      "source": [
        "model.fit(x=X_train_scaled,y=y_train,epochs=100,validation_data=(X_test_scaled,y_test))"
      ],
      "metadata": {
        "colab": {
          "base_uri": "https://localhost:8080/"
        },
        "id": "H_aRsZ9Up1sN",
        "outputId": "4adc4ab9-2b0c-41bc-8c1c-c374cc8a5dc8"
      },
      "execution_count": null,
      "outputs": [
        {
          "output_type": "stream",
          "name": "stdout",
          "text": [
            "Epoch 1/100\n",
            "12/12 [==============================] - 1s 24ms/step - loss: 14.5807 - val_loss: 11.5982\n",
            "Epoch 2/100\n",
            "12/12 [==============================] - 0s 6ms/step - loss: 10.4242 - val_loss: 8.3350\n",
            "Epoch 3/100\n",
            "12/12 [==============================] - 0s 6ms/step - loss: 7.5207 - val_loss: 6.9914\n",
            "Epoch 4/100\n",
            "12/12 [==============================] - 0s 6ms/step - loss: 6.5718 - val_loss: 6.4099\n",
            "Epoch 5/100\n",
            "12/12 [==============================] - 0s 6ms/step - loss: 6.0254 - val_loss: 6.0112\n",
            "Epoch 6/100\n",
            "12/12 [==============================] - 0s 6ms/step - loss: 5.5166 - val_loss: 5.5953\n",
            "Epoch 7/100\n",
            "12/12 [==============================] - 0s 5ms/step - loss: 5.3726 - val_loss: 5.3535\n",
            "Epoch 8/100\n",
            "12/12 [==============================] - 0s 7ms/step - loss: 5.0441 - val_loss: 5.2345\n",
            "Epoch 9/100\n",
            "12/12 [==============================] - 0s 6ms/step - loss: 4.8624 - val_loss: 5.1066\n",
            "Epoch 10/100\n",
            "12/12 [==============================] - 0s 7ms/step - loss: 4.7916 - val_loss: 5.0111\n",
            "Epoch 11/100\n",
            "12/12 [==============================] - 0s 6ms/step - loss: 4.7072 - val_loss: 4.9344\n",
            "Epoch 12/100\n",
            "12/12 [==============================] - 0s 6ms/step - loss: 4.6646 - val_loss: 4.8838\n",
            "Epoch 13/100\n",
            "12/12 [==============================] - 0s 6ms/step - loss: 4.5808 - val_loss: 4.8285\n",
            "Epoch 14/100\n",
            "12/12 [==============================] - 0s 8ms/step - loss: 4.5837 - val_loss: 4.8461\n",
            "Epoch 15/100\n",
            "12/12 [==============================] - 0s 5ms/step - loss: 4.4956 - val_loss: 4.7997\n",
            "Epoch 16/100\n",
            "12/12 [==============================] - 0s 6ms/step - loss: 4.4225 - val_loss: 4.8249\n",
            "Epoch 17/100\n",
            "12/12 [==============================] - 0s 6ms/step - loss: 4.3716 - val_loss: 4.7009\n",
            "Epoch 18/100\n",
            "12/12 [==============================] - 0s 5ms/step - loss: 4.2768 - val_loss: 4.6813\n",
            "Epoch 19/100\n",
            "12/12 [==============================] - 0s 5ms/step - loss: 4.3535 - val_loss: 4.7203\n",
            "Epoch 20/100\n",
            "12/12 [==============================] - 0s 6ms/step - loss: 4.3711 - val_loss: 4.7137\n",
            "Epoch 21/100\n",
            "12/12 [==============================] - 0s 7ms/step - loss: 4.2850 - val_loss: 4.7389\n",
            "Epoch 22/100\n",
            "12/12 [==============================] - 0s 7ms/step - loss: 4.3363 - val_loss: 4.6313\n",
            "Epoch 23/100\n",
            "12/12 [==============================] - 0s 7ms/step - loss: 4.4084 - val_loss: 4.7107\n",
            "Epoch 24/100\n",
            "12/12 [==============================] - 0s 7ms/step - loss: 4.1680 - val_loss: 4.5704\n",
            "Epoch 25/100\n",
            "12/12 [==============================] - 0s 7ms/step - loss: 4.2996 - val_loss: 4.6188\n",
            "Epoch 26/100\n",
            "12/12 [==============================] - 0s 7ms/step - loss: 4.2069 - val_loss: 4.6623\n",
            "Epoch 27/100\n",
            "12/12 [==============================] - 0s 7ms/step - loss: 4.1257 - val_loss: 4.5837\n",
            "Epoch 28/100\n",
            "12/12 [==============================] - 0s 6ms/step - loss: 4.2514 - val_loss: 4.5317\n",
            "Epoch 29/100\n",
            "12/12 [==============================] - 0s 6ms/step - loss: 4.2213 - val_loss: 4.5331\n",
            "Epoch 30/100\n",
            "12/12 [==============================] - 0s 7ms/step - loss: 4.1997 - val_loss: 4.6245\n",
            "Epoch 31/100\n",
            "12/12 [==============================] - 0s 6ms/step - loss: 4.0712 - val_loss: 4.5553\n",
            "Epoch 32/100\n",
            "12/12 [==============================] - 0s 6ms/step - loss: 4.1765 - val_loss: 4.6096\n",
            "Epoch 33/100\n",
            "12/12 [==============================] - 0s 6ms/step - loss: 4.0727 - val_loss: 4.5365\n",
            "Epoch 34/100\n",
            "12/12 [==============================] - 0s 6ms/step - loss: 3.9665 - val_loss: 4.5263\n",
            "Epoch 35/100\n",
            "12/12 [==============================] - 0s 7ms/step - loss: 4.1347 - val_loss: 4.5300\n",
            "Epoch 36/100\n",
            "12/12 [==============================] - 0s 5ms/step - loss: 4.1545 - val_loss: 4.4822\n",
            "Epoch 37/100\n",
            "12/12 [==============================] - 0s 5ms/step - loss: 4.0695 - val_loss: 4.5712\n",
            "Epoch 38/100\n",
            "12/12 [==============================] - 0s 7ms/step - loss: 4.1222 - val_loss: 4.4451\n",
            "Epoch 39/100\n",
            "12/12 [==============================] - 0s 5ms/step - loss: 4.0873 - val_loss: 4.5442\n",
            "Epoch 40/100\n",
            "12/12 [==============================] - 0s 5ms/step - loss: 4.0661 - val_loss: 4.4925\n",
            "Epoch 41/100\n",
            "12/12 [==============================] - 0s 7ms/step - loss: 4.0866 - val_loss: 4.4143\n",
            "Epoch 42/100\n",
            "12/12 [==============================] - 0s 6ms/step - loss: 4.0539 - val_loss: 4.4173\n",
            "Epoch 43/100\n",
            "12/12 [==============================] - 0s 7ms/step - loss: 4.1069 - val_loss: 4.4059\n",
            "Epoch 44/100\n",
            "12/12 [==============================] - 0s 7ms/step - loss: 4.0202 - val_loss: 4.5504\n",
            "Epoch 45/100\n",
            "12/12 [==============================] - 0s 5ms/step - loss: 4.0264 - val_loss: 4.4462\n",
            "Epoch 46/100\n",
            "12/12 [==============================] - 0s 7ms/step - loss: 3.9496 - val_loss: 4.3790\n",
            "Epoch 47/100\n",
            "12/12 [==============================] - 0s 6ms/step - loss: 4.0278 - val_loss: 4.4393\n",
            "Epoch 48/100\n",
            "12/12 [==============================] - 0s 7ms/step - loss: 4.0161 - val_loss: 4.3862\n",
            "Epoch 49/100\n",
            "12/12 [==============================] - 0s 7ms/step - loss: 4.0581 - val_loss: 4.4325\n",
            "Epoch 50/100\n",
            "12/12 [==============================] - 0s 8ms/step - loss: 3.9563 - val_loss: 4.5147\n",
            "Epoch 51/100\n",
            "12/12 [==============================] - 0s 6ms/step - loss: 3.9632 - val_loss: 4.4250\n",
            "Epoch 52/100\n",
            "12/12 [==============================] - 0s 7ms/step - loss: 4.0235 - val_loss: 4.4496\n",
            "Epoch 53/100\n",
            "12/12 [==============================] - 0s 8ms/step - loss: 3.9626 - val_loss: 4.3842\n",
            "Epoch 54/100\n",
            "12/12 [==============================] - 0s 6ms/step - loss: 4.0371 - val_loss: 4.3609\n",
            "Epoch 55/100\n",
            "12/12 [==============================] - 0s 9ms/step - loss: 3.9267 - val_loss: 4.4601\n",
            "Epoch 56/100\n",
            "12/12 [==============================] - 0s 6ms/step - loss: 3.9071 - val_loss: 4.3941\n",
            "Epoch 57/100\n",
            "12/12 [==============================] - 0s 7ms/step - loss: 4.0682 - val_loss: 4.3344\n",
            "Epoch 58/100\n",
            "12/12 [==============================] - 0s 6ms/step - loss: 4.0243 - val_loss: 4.3430\n",
            "Epoch 59/100\n",
            "12/12 [==============================] - 0s 7ms/step - loss: 3.9849 - val_loss: 4.3436\n",
            "Epoch 60/100\n",
            "12/12 [==============================] - 0s 7ms/step - loss: 3.9664 - val_loss: 4.4327\n",
            "Epoch 61/100\n",
            "12/12 [==============================] - 0s 6ms/step - loss: 3.9201 - val_loss: 4.3320\n",
            "Epoch 62/100\n",
            "12/12 [==============================] - 0s 7ms/step - loss: 3.9163 - val_loss: 4.3376\n",
            "Epoch 63/100\n",
            "12/12 [==============================] - 0s 8ms/step - loss: 3.9283 - val_loss: 4.3905\n",
            "Epoch 64/100\n",
            "12/12 [==============================] - 0s 6ms/step - loss: 3.9576 - val_loss: 4.3757\n",
            "Epoch 65/100\n",
            "12/12 [==============================] - 0s 7ms/step - loss: 3.9209 - val_loss: 4.4252\n",
            "Epoch 66/100\n",
            "12/12 [==============================] - 0s 6ms/step - loss: 3.9307 - val_loss: 4.4314\n",
            "Epoch 67/100\n",
            "12/12 [==============================] - 0s 7ms/step - loss: 3.9562 - val_loss: 4.3436\n",
            "Epoch 68/100\n",
            "12/12 [==============================] - 0s 9ms/step - loss: 3.8698 - val_loss: 4.3395\n",
            "Epoch 69/100\n",
            "12/12 [==============================] - 0s 10ms/step - loss: 3.8969 - val_loss: 4.3198\n",
            "Epoch 70/100\n",
            "12/12 [==============================] - 0s 9ms/step - loss: 3.9258 - val_loss: 4.3090\n",
            "Epoch 71/100\n",
            "12/12 [==============================] - 0s 8ms/step - loss: 3.8792 - val_loss: 4.3789\n",
            "Epoch 72/100\n",
            "12/12 [==============================] - 0s 9ms/step - loss: 3.9066 - val_loss: 4.3455\n",
            "Epoch 73/100\n",
            "12/12 [==============================] - 0s 9ms/step - loss: 3.9443 - val_loss: 4.2979\n",
            "Epoch 74/100\n",
            "12/12 [==============================] - 0s 9ms/step - loss: 3.9067 - val_loss: 4.4113\n",
            "Epoch 75/100\n",
            "12/12 [==============================] - 0s 10ms/step - loss: 3.8284 - val_loss: 4.4150\n",
            "Epoch 76/100\n",
            "12/12 [==============================] - 0s 11ms/step - loss: 3.8660 - val_loss: 4.3125\n",
            "Epoch 77/100\n",
            "12/12 [==============================] - 0s 9ms/step - loss: 3.9488 - val_loss: 4.2913\n",
            "Epoch 78/100\n",
            "12/12 [==============================] - 0s 9ms/step - loss: 3.9488 - val_loss: 4.3419\n",
            "Epoch 79/100\n",
            "12/12 [==============================] - 0s 9ms/step - loss: 3.9869 - val_loss: 4.3055\n",
            "Epoch 80/100\n",
            "12/12 [==============================] - 0s 8ms/step - loss: 3.9016 - val_loss: 4.3218\n",
            "Epoch 81/100\n",
            "12/12 [==============================] - 0s 8ms/step - loss: 3.8725 - val_loss: 4.3556\n",
            "Epoch 82/100\n",
            "12/12 [==============================] - 0s 8ms/step - loss: 3.9127 - val_loss: 4.2787\n",
            "Epoch 83/100\n",
            "12/12 [==============================] - 0s 9ms/step - loss: 3.8415 - val_loss: 4.3080\n",
            "Epoch 84/100\n",
            "12/12 [==============================] - 0s 11ms/step - loss: 3.8511 - val_loss: 4.3237\n",
            "Epoch 85/100\n",
            "12/12 [==============================] - 0s 12ms/step - loss: 3.9081 - val_loss: 4.3233\n",
            "Epoch 86/100\n",
            "12/12 [==============================] - 0s 10ms/step - loss: 3.8892 - val_loss: 4.3900\n",
            "Epoch 87/100\n",
            "12/12 [==============================] - 0s 11ms/step - loss: 3.8780 - val_loss: 4.2810\n",
            "Epoch 88/100\n",
            "12/12 [==============================] - 0s 8ms/step - loss: 3.8303 - val_loss: 4.2820\n",
            "Epoch 89/100\n",
            "12/12 [==============================] - 0s 10ms/step - loss: 3.7713 - val_loss: 4.3178\n",
            "Epoch 90/100\n",
            "12/12 [==============================] - 0s 10ms/step - loss: 3.7844 - val_loss: 4.2911\n",
            "Epoch 91/100\n",
            "12/12 [==============================] - 0s 10ms/step - loss: 3.8065 - val_loss: 4.2819\n",
            "Epoch 92/100\n",
            "12/12 [==============================] - 0s 7ms/step - loss: 3.8516 - val_loss: 4.3340\n",
            "Epoch 93/100\n",
            "12/12 [==============================] - 0s 6ms/step - loss: 3.9456 - val_loss: 4.2755\n",
            "Epoch 94/100\n",
            "12/12 [==============================] - 0s 8ms/step - loss: 3.8255 - val_loss: 4.3213\n",
            "Epoch 95/100\n",
            "12/12 [==============================] - 0s 6ms/step - loss: 3.8436 - val_loss: 4.3376\n",
            "Epoch 96/100\n",
            "12/12 [==============================] - 0s 7ms/step - loss: 3.8222 - val_loss: 4.3528\n",
            "Epoch 97/100\n",
            "12/12 [==============================] - 0s 6ms/step - loss: 3.7970 - val_loss: 4.3423\n",
            "Epoch 98/100\n",
            "12/12 [==============================] - 0s 7ms/step - loss: 3.7922 - val_loss: 4.3784\n",
            "Epoch 99/100\n",
            "12/12 [==============================] - 0s 7ms/step - loss: 3.8765 - val_loss: 4.2706\n",
            "Epoch 100/100\n",
            "12/12 [==============================] - 0s 6ms/step - loss: 3.8847 - val_loss: 4.3218\n"
          ]
        },
        {
          "output_type": "execute_result",
          "data": {
            "text/plain": [
              "<keras.callbacks.History at 0x7e139d4cb850>"
            ]
          },
          "metadata": {},
          "execution_count": 60
        }
      ]
    },
    {
      "cell_type": "code",
      "source": [
        "#Plot\n",
        "sns.set()\n",
        "loss=pd.DataFrame(model.history.history)\n",
        "loss.plot()"
      ],
      "metadata": {
        "colab": {
          "base_uri": "https://localhost:8080/",
          "height": 452
        },
        "id": "FEX7HINIs44k",
        "outputId": "1eda6686-be7b-4eda-a694-d74f318a0abf"
      },
      "execution_count": null,
      "outputs": [
        {
          "output_type": "execute_result",
          "data": {
            "text/plain": [
              "<Axes: >"
            ]
          },
          "metadata": {},
          "execution_count": 61
        },
        {
          "output_type": "display_data",
          "data": {
            "text/plain": [
              "<Figure size 640x480 with 1 Axes>"
            ],
            "image/png": "[encoded data removed]"
          },
          "metadata": {}
        }
      ]
    },
    {
      "cell_type": "markdown",
      "source": [
        "#Model 2"
      ],
      "metadata": {
        "id": "gyqxXGPitPRW"
      }
    },
    {
      "cell_type": "code",
      "source": [
        "model2=Sequential()"
      ],
      "metadata": {
        "id": "L3z99bD9t4Hh"
      },
      "execution_count": null,
      "outputs": []
    },
    {
      "cell_type": "code",
      "source": [
        "\n",
        "#Input Layer\n",
        "model2.add(Dense(100,activation='relu',input_shape=(9,)))\n",
        "\n",
        "#Hidden Layers\n",
        "model2.add(Dense(100,activation='relu',kernel_initializer='glorot_normal',bias_initializer='zeros'))\n",
        "\n",
        "#model.add(Dropout(0.3))\n",
        "\n",
        "model2.add(Dense(50,activation='relu',kernel_initializer='glorot_normal',bias_initializer='zeros'))\n",
        "\n",
        "#model.add(Dropout(0.3))\n",
        "\n",
        "model2.add(Dense(30,activation='relu',kernel_initializer='glorot_normal',bias_initializer='zeros'))\n",
        "\n",
        "#model.add(Dropout(0.3))\n",
        "\n",
        "model2.add(Dense(20,activation='relu',kernel_initializer='glorot_normal',bias_initializer='zeros'))\n",
        "\n",
        "#model.add(Dropout(0.3))\n",
        "\n",
        "model2.add(Dense(10,activation='relu',kernel_initializer='glorot_normal',bias_initializer='zeros'))"
      ],
      "metadata": {
        "id": "pvo-Ak-qtBuP"
      },
      "execution_count": null,
      "outputs": []
    },
    {
      "cell_type": "code",
      "source": [
        "model2.add(Dense(1))"
      ],
      "metadata": {
        "id": "FgAL5hLquAo4"
      },
      "execution_count": null,
      "outputs": []
    },
    {
      "cell_type": "code",
      "source": [
        "model2.summary()"
      ],
      "metadata": {
        "colab": {
          "base_uri": "https://localhost:8080/"
        },
        "id": "5-k8IhHduCLA",
        "outputId": "02278ceb-9a17-48dd-e834-ca9ebca5627b"
      },
      "execution_count": null,
      "outputs": [
        {
          "output_type": "stream",
          "name": "stdout",
          "text": [
            "Model: \"sequential_4\"\n",
            "_________________________________________________________________\n",
            " Layer (type)                Output Shape              Param #   \n",
            "=================================================================\n",
            " dense_21 (Dense)            (None, 100)               1000      \n",
            "                                                                 \n",
            " dense_22 (Dense)            (None, 100)               10100     \n",
            "                                                                 \n",
            " dense_23 (Dense)            (None, 50)                5050      \n",
            "                                                                 \n",
            " dense_24 (Dense)            (None, 30)                1530      \n",
            "                                                                 \n",
            " dense_25 (Dense)            (None, 20)                620       \n",
            "                                                                 \n",
            " dense_26 (Dense)            (None, 10)                210       \n",
            "                                                                 \n",
            " dense_27 (Dense)            (None, 1)                 11        \n",
            "                                                                 \n",
            "=================================================================\n",
            "Total params: 18,521\n",
            "Trainable params: 18,521\n",
            "Non-trainable params: 0\n",
            "_________________________________________________________________\n"
          ]
        }
      ]
    },
    {
      "cell_type": "code",
      "source": [
        "model2.compile(optimizer='rmsprop',loss='mae',metrics='mse')"
      ],
      "metadata": {
        "id": "c1w1UuZFuDaN"
      },
      "execution_count": null,
      "outputs": []
    },
    {
      "cell_type": "code",
      "source": [
        "model2.fit(x=X_train_scaled,y=y_train,epochs=100,validation_data=(X_test_scaled,y_test))"
      ],
      "metadata": {
        "colab": {
          "base_uri": "https://localhost:8080/"
        },
        "id": "z7iIQFe4uaky",
        "outputId": "9017292f-244d-46a1-e83a-e2437ad9429b"
      },
      "execution_count": null,
      "outputs": [
        {
          "output_type": "stream",
          "name": "stdout",
          "text": [
            "Epoch 1/100\n",
            "12/12 [==============================] - 1s 23ms/step - loss: 9.0117 - mse: 106.4211 - val_loss: 9.0142 - val_mse: 109.9026\n",
            "Epoch 2/100\n",
            "12/12 [==============================] - 0s 6ms/step - loss: 8.9938 - mse: 106.1187 - val_loss: 9.0011 - val_mse: 109.6675\n",
            "Epoch 3/100\n",
            "12/12 [==============================] - 0s 7ms/step - loss: 8.9812 - mse: 105.8890 - val_loss: 8.9889 - val_mse: 109.4468\n",
            "Epoch 4/100\n",
            "12/12 [==============================] - 0s 6ms/step - loss: 8.9690 - mse: 105.6693 - val_loss: 8.9768 - val_mse: 109.2299\n",
            "Epoch 5/100\n",
            "12/12 [==============================] - 0s 6ms/step - loss: 8.9570 - mse: 105.4525 - val_loss: 8.9648 - val_mse: 109.0142\n",
            "Epoch 6/100\n",
            "12/12 [==============================] - 0s 7ms/step - loss: 8.9450 - mse: 105.2372 - val_loss: 8.9528 - val_mse: 108.7991\n",
            "Epoch 7/100\n",
            "12/12 [==============================] - 0s 7ms/step - loss: 8.9330 - mse: 105.0254 - val_loss: 8.9408 - val_mse: 108.5843\n",
            "Epoch 8/100\n",
            "12/12 [==============================] - 0s 6ms/step - loss: 8.9210 - mse: 104.8114 - val_loss: 8.9288 - val_mse: 108.3699\n",
            "Epoch 9/100\n",
            "12/12 [==============================] - 0s 8ms/step - loss: 8.9090 - mse: 104.5964 - val_loss: 8.9168 - val_mse: 108.1557\n",
            "Epoch 10/100\n",
            "12/12 [==============================] - 0s 6ms/step - loss: 8.8970 - mse: 104.3845 - val_loss: 8.9048 - val_mse: 107.9419\n",
            "Epoch 11/100\n",
            "12/12 [==============================] - 0s 7ms/step - loss: 8.8850 - mse: 104.1690 - val_loss: 8.8928 - val_mse: 107.7283\n",
            "Epoch 12/100\n",
            "12/12 [==============================] - 0s 6ms/step - loss: 8.8730 - mse: 103.9575 - val_loss: 8.8808 - val_mse: 107.5150\n",
            "Epoch 13/100\n",
            "12/12 [==============================] - 0s 6ms/step - loss: 8.8610 - mse: 103.7426 - val_loss: 8.8688 - val_mse: 107.3020\n",
            "Epoch 14/100\n",
            "12/12 [==============================] - 0s 7ms/step - loss: 8.8490 - mse: 103.5320 - val_loss: 8.8568 - val_mse: 107.0893\n",
            "Epoch 15/100\n",
            "12/12 [==============================] - 0s 6ms/step - loss: 8.8370 - mse: 103.3196 - val_loss: 8.8448 - val_mse: 106.8769\n",
            "Epoch 16/100\n",
            "12/12 [==============================] - 0s 5ms/step - loss: 8.8250 - mse: 103.1113 - val_loss: 8.8328 - val_mse: 106.6648\n",
            "Epoch 17/100\n",
            "12/12 [==============================] - 0s 6ms/step - loss: 8.8130 - mse: 102.8950 - val_loss: 8.8208 - val_mse: 106.4529\n",
            "Epoch 18/100\n",
            "12/12 [==============================] - 0s 5ms/step - loss: 8.8010 - mse: 102.6852 - val_loss: 8.8088 - val_mse: 106.2414\n",
            "Epoch 19/100\n",
            "12/12 [==============================] - 0s 7ms/step - loss: 8.7890 - mse: 102.4747 - val_loss: 8.7968 - val_mse: 106.0301\n",
            "Epoch 20/100\n",
            "12/12 [==============================] - 0s 6ms/step - loss: 8.7770 - mse: 102.2646 - val_loss: 8.7848 - val_mse: 105.8191\n",
            "Epoch 21/100\n",
            "12/12 [==============================] - 0s 6ms/step - loss: 8.7650 - mse: 102.0509 - val_loss: 8.7728 - val_mse: 105.6084\n",
            "Epoch 22/100\n",
            "12/12 [==============================] - 0s 6ms/step - loss: 8.7530 - mse: 101.8425 - val_loss: 8.7608 - val_mse: 105.3980\n",
            "Epoch 23/100\n",
            "12/12 [==============================] - 0s 7ms/step - loss: 8.7410 - mse: 101.6284 - val_loss: 8.7488 - val_mse: 105.1879\n",
            "Epoch 24/100\n",
            "12/12 [==============================] - 0s 6ms/step - loss: 8.7290 - mse: 101.4220 - val_loss: 8.7368 - val_mse: 104.9781\n",
            "Epoch 25/100\n",
            "12/12 [==============================] - 0s 6ms/step - loss: 8.7170 - mse: 101.2116 - val_loss: 8.7248 - val_mse: 104.7686\n",
            "Epoch 26/100\n",
            "12/12 [==============================] - 0s 6ms/step - loss: 8.7050 - mse: 101.0010 - val_loss: 8.7128 - val_mse: 104.5593\n",
            "Epoch 27/100\n",
            "12/12 [==============================] - 0s 8ms/step - loss: 8.6930 - mse: 100.7955 - val_loss: 8.7008 - val_mse: 104.3504\n",
            "Epoch 28/100\n",
            "12/12 [==============================] - 0s 6ms/step - loss: 8.6810 - mse: 100.5887 - val_loss: 8.6888 - val_mse: 104.1417\n",
            "Epoch 29/100\n",
            "12/12 [==============================] - 0s 6ms/step - loss: 8.6690 - mse: 100.3783 - val_loss: 8.6768 - val_mse: 103.9333\n",
            "Epoch 30/100\n",
            "12/12 [==============================] - 0s 7ms/step - loss: 8.6570 - mse: 100.1713 - val_loss: 8.6648 - val_mse: 103.7252\n",
            "Epoch 31/100\n",
            "12/12 [==============================] - 0s 7ms/step - loss: 8.6450 - mse: 99.9613 - val_loss: 8.6528 - val_mse: 103.5174\n",
            "Epoch 32/100\n",
            "12/12 [==============================] - 0s 6ms/step - loss: 8.6330 - mse: 99.7545 - val_loss: 8.6408 - val_mse: 103.3099\n",
            "Epoch 33/100\n",
            "12/12 [==============================] - 0s 6ms/step - loss: 8.6210 - mse: 99.5480 - val_loss: 8.6288 - val_mse: 103.1027\n",
            "Epoch 34/100\n",
            "12/12 [==============================] - 0s 7ms/step - loss: 8.6090 - mse: 99.3420 - val_loss: 8.6168 - val_mse: 102.8957\n",
            "Epoch 35/100\n",
            "12/12 [==============================] - 0s 6ms/step - loss: 8.5970 - mse: 99.1358 - val_loss: 8.6048 - val_mse: 102.6891\n",
            "Epoch 36/100\n",
            "12/12 [==============================] - 0s 7ms/step - loss: 8.5850 - mse: 98.9302 - val_loss: 8.5928 - val_mse: 102.4827\n",
            "Epoch 37/100\n",
            "12/12 [==============================] - 0s 7ms/step - loss: 8.5730 - mse: 98.7243 - val_loss: 8.5808 - val_mse: 102.2766\n",
            "Epoch 38/100\n",
            "12/12 [==============================] - 0s 6ms/step - loss: 8.5610 - mse: 98.5155 - val_loss: 8.5688 - val_mse: 102.0708\n",
            "Epoch 39/100\n",
            "12/12 [==============================] - 0s 6ms/step - loss: 8.5490 - mse: 98.3101 - val_loss: 8.5568 - val_mse: 101.8653\n",
            "Epoch 40/100\n",
            "12/12 [==============================] - 0s 6ms/step - loss: 8.5370 - mse: 98.1043 - val_loss: 8.5448 - val_mse: 101.6601\n",
            "Epoch 41/100\n",
            "12/12 [==============================] - 0s 6ms/step - loss: 8.5250 - mse: 97.9006 - val_loss: 8.5328 - val_mse: 101.4552\n",
            "Epoch 42/100\n",
            "12/12 [==============================] - 0s 6ms/step - loss: 8.5130 - mse: 97.6948 - val_loss: 8.5208 - val_mse: 101.2505\n",
            "Epoch 43/100\n",
            "12/12 [==============================] - 0s 6ms/step - loss: 8.5010 - mse: 97.4917 - val_loss: 8.5088 - val_mse: 101.0462\n",
            "Epoch 44/100\n",
            "12/12 [==============================] - 0s 6ms/step - loss: 8.4890 - mse: 97.2908 - val_loss: 8.4968 - val_mse: 100.8421\n",
            "Epoch 45/100\n",
            "12/12 [==============================] - 0s 7ms/step - loss: 8.4770 - mse: 97.0872 - val_loss: 8.4848 - val_mse: 100.6384\n",
            "Epoch 46/100\n",
            "12/12 [==============================] - 0s 8ms/step - loss: 8.4650 - mse: 96.8876 - val_loss: 8.4728 - val_mse: 100.4349\n",
            "Epoch 47/100\n",
            "12/12 [==============================] - 0s 8ms/step - loss: 8.4530 - mse: 96.6824 - val_loss: 8.4608 - val_mse: 100.2317\n",
            "Epoch 48/100\n",
            "12/12 [==============================] - 0s 10ms/step - loss: 8.4410 - mse: 96.4766 - val_loss: 8.4488 - val_mse: 100.0287\n",
            "Epoch 49/100\n",
            "12/12 [==============================] - 0s 8ms/step - loss: 8.4290 - mse: 96.2717 - val_loss: 8.4368 - val_mse: 99.8261\n",
            "Epoch 50/100\n",
            "12/12 [==============================] - 0s 9ms/step - loss: 8.4170 - mse: 96.0737 - val_loss: 8.4248 - val_mse: 99.6238\n",
            "Epoch 51/100\n",
            "12/12 [==============================] - 0s 7ms/step - loss: 8.4050 - mse: 95.8702 - val_loss: 8.4128 - val_mse: 99.4217\n",
            "Epoch 52/100\n",
            "12/12 [==============================] - 0s 7ms/step - loss: 8.3930 - mse: 95.6698 - val_loss: 8.4008 - val_mse: 99.2200\n",
            "Epoch 53/100\n",
            "12/12 [==============================] - 0s 8ms/step - loss: 8.3810 - mse: 95.4690 - val_loss: 8.3888 - val_mse: 99.0185\n",
            "Epoch 54/100\n",
            "12/12 [==============================] - 0s 7ms/step - loss: 8.3690 - mse: 95.2675 - val_loss: 8.3768 - val_mse: 98.8173\n",
            "Epoch 55/100\n",
            "12/12 [==============================] - 0s 7ms/step - loss: 8.3570 - mse: 95.0653 - val_loss: 8.3648 - val_mse: 98.6164\n",
            "Epoch 56/100\n",
            "12/12 [==============================] - 0s 8ms/step - loss: 8.3450 - mse: 94.8673 - val_loss: 8.3528 - val_mse: 98.4158\n",
            "Epoch 57/100\n",
            "12/12 [==============================] - 0s 8ms/step - loss: 8.3330 - mse: 94.6646 - val_loss: 8.3408 - val_mse: 98.2155\n",
            "Epoch 58/100\n",
            "12/12 [==============================] - 0s 6ms/step - loss: 8.3210 - mse: 94.4654 - val_loss: 8.3288 - val_mse: 98.0155\n",
            "Epoch 59/100\n",
            "12/12 [==============================] - 0s 7ms/step - loss: 8.3090 - mse: 94.2677 - val_loss: 8.3168 - val_mse: 97.8157\n",
            "Epoch 60/100\n",
            "12/12 [==============================] - 0s 6ms/step - loss: 8.2970 - mse: 94.0668 - val_loss: 8.3048 - val_mse: 97.6163\n",
            "Epoch 61/100\n",
            "12/12 [==============================] - 0s 6ms/step - loss: 8.2850 - mse: 93.8646 - val_loss: 8.2928 - val_mse: 97.4171\n",
            "Epoch 62/100\n",
            "12/12 [==============================] - 0s 6ms/step - loss: 8.2730 - mse: 93.6688 - val_loss: 8.2808 - val_mse: 97.2182\n",
            "Epoch 63/100\n",
            "12/12 [==============================] - 0s 6ms/step - loss: 8.2610 - mse: 93.4702 - val_loss: 8.2688 - val_mse: 97.0196\n",
            "Epoch 64/100\n",
            "12/12 [==============================] - 0s 7ms/step - loss: 8.2490 - mse: 93.2723 - val_loss: 8.2568 - val_mse: 96.8213\n",
            "Epoch 65/100\n",
            "12/12 [==============================] - 0s 6ms/step - loss: 8.2370 - mse: 93.0740 - val_loss: 8.2448 - val_mse: 96.6233\n",
            "Epoch 66/100\n",
            "12/12 [==============================] - 0s 6ms/step - loss: 8.2250 - mse: 92.8771 - val_loss: 8.2328 - val_mse: 96.4256\n",
            "Epoch 67/100\n",
            "12/12 [==============================] - 0s 7ms/step - loss: 8.2130 - mse: 92.6833 - val_loss: 8.2208 - val_mse: 96.2281\n",
            "Epoch 68/100\n",
            "12/12 [==============================] - 0s 7ms/step - loss: 8.2010 - mse: 92.4835 - val_loss: 8.2088 - val_mse: 96.0310\n",
            "Epoch 69/100\n",
            "12/12 [==============================] - 0s 7ms/step - loss: 8.1890 - mse: 92.2874 - val_loss: 8.1968 - val_mse: 95.8341\n",
            "Epoch 70/100\n",
            "12/12 [==============================] - 0s 5ms/step - loss: 8.1770 - mse: 92.0925 - val_loss: 8.1848 - val_mse: 95.6375\n",
            "Epoch 71/100\n",
            "12/12 [==============================] - 0s 6ms/step - loss: 8.1650 - mse: 91.8956 - val_loss: 8.1728 - val_mse: 95.4413\n",
            "Epoch 72/100\n",
            "12/12 [==============================] - 0s 7ms/step - loss: 8.1530 - mse: 91.6953 - val_loss: 8.1608 - val_mse: 95.2453\n",
            "Epoch 73/100\n",
            "12/12 [==============================] - 0s 6ms/step - loss: 8.1410 - mse: 91.5013 - val_loss: 8.1488 - val_mse: 95.0496\n",
            "Epoch 74/100\n",
            "12/12 [==============================] - 0s 7ms/step - loss: 8.1290 - mse: 91.3056 - val_loss: 8.1368 - val_mse: 94.8541\n",
            "Epoch 75/100\n",
            "12/12 [==============================] - 0s 6ms/step - loss: 8.1170 - mse: 91.1112 - val_loss: 8.1248 - val_mse: 94.6590\n",
            "Epoch 76/100\n",
            "12/12 [==============================] - 0s 5ms/step - loss: 8.1050 - mse: 90.9167 - val_loss: 8.1128 - val_mse: 94.4642\n",
            "Epoch 77/100\n",
            "12/12 [==============================] - 0s 7ms/step - loss: 8.0930 - mse: 90.7232 - val_loss: 8.1008 - val_mse: 94.2696\n",
            "Epoch 78/100\n",
            "12/12 [==============================] - 0s 5ms/step - loss: 8.0810 - mse: 90.5272 - val_loss: 8.0888 - val_mse: 94.0753\n",
            "Epoch 79/100\n",
            "12/12 [==============================] - 0s 6ms/step - loss: 8.0690 - mse: 90.3338 - val_loss: 8.0768 - val_mse: 93.8813\n",
            "Epoch 80/100\n",
            "12/12 [==============================] - 0s 6ms/step - loss: 8.0570 - mse: 90.1450 - val_loss: 8.0648 - val_mse: 93.6876\n",
            "Epoch 81/100\n",
            "12/12 [==============================] - 0s 5ms/step - loss: 8.0450 - mse: 89.9463 - val_loss: 8.0528 - val_mse: 93.4942\n",
            "Epoch 82/100\n",
            "12/12 [==============================] - 0s 6ms/step - loss: 8.0330 - mse: 89.7544 - val_loss: 8.0408 - val_mse: 93.3011\n",
            "Epoch 83/100\n",
            "12/12 [==============================] - 0s 6ms/step - loss: 8.0210 - mse: 89.5645 - val_loss: 8.0288 - val_mse: 93.1083\n",
            "Epoch 84/100\n",
            "12/12 [==============================] - 0s 6ms/step - loss: 8.0091 - mse: 89.3743 - val_loss: 8.0168 - val_mse: 92.9165\n",
            "Epoch 85/100\n",
            "12/12 [==============================] - 0s 6ms/step - loss: 7.9971 - mse: 89.1790 - val_loss: 8.0048 - val_mse: 92.7240\n",
            "Epoch 86/100\n",
            "12/12 [==============================] - 0s 8ms/step - loss: 7.9852 - mse: 88.9841 - val_loss: 7.9928 - val_mse: 92.5325\n",
            "Epoch 87/100\n",
            "12/12 [==============================] - 0s 6ms/step - loss: 7.9733 - mse: 88.7950 - val_loss: 7.9808 - val_mse: 92.3406\n",
            "Epoch 88/100\n",
            "12/12 [==============================] - 0s 8ms/step - loss: 7.9614 - mse: 88.6048 - val_loss: 7.9688 - val_mse: 92.1495\n",
            "Epoch 89/100\n",
            "12/12 [==============================] - 0s 9ms/step - loss: 7.9494 - mse: 88.4145 - val_loss: 7.9568 - val_mse: 91.9585\n",
            "Epoch 90/100\n",
            "12/12 [==============================] - 0s 10ms/step - loss: 7.9375 - mse: 88.2255 - val_loss: 7.9448 - val_mse: 91.7675\n",
            "Epoch 91/100\n",
            "12/12 [==============================] - 0s 10ms/step - loss: 7.9256 - mse: 88.0337 - val_loss: 7.9328 - val_mse: 91.5768\n",
            "Epoch 92/100\n",
            "12/12 [==============================] - 0s 11ms/step - loss: 7.9136 - mse: 87.8410 - val_loss: 7.9208 - val_mse: 91.3868\n",
            "Epoch 93/100\n",
            "12/12 [==============================] - 0s 11ms/step - loss: 7.9017 - mse: 87.6531 - val_loss: 7.9088 - val_mse: 91.1969\n",
            "Epoch 94/100\n",
            "12/12 [==============================] - 0s 9ms/step - loss: 7.8898 - mse: 87.4662 - val_loss: 7.8968 - val_mse: 91.0074\n",
            "Epoch 95/100\n",
            "12/12 [==============================] - 0s 7ms/step - loss: 7.8778 - mse: 87.2742 - val_loss: 7.8848 - val_mse: 90.8178\n",
            "Epoch 96/100\n",
            "12/12 [==============================] - 0s 9ms/step - loss: 7.8659 - mse: 87.0859 - val_loss: 7.8728 - val_mse: 90.6288\n",
            "Epoch 97/100\n",
            "12/12 [==============================] - 0s 7ms/step - loss: 7.8540 - mse: 86.8962 - val_loss: 7.8609 - val_mse: 90.4402\n",
            "Epoch 98/100\n",
            "12/12 [==============================] - 0s 8ms/step - loss: 7.8421 - mse: 86.7106 - val_loss: 7.8488 - val_mse: 90.2515\n",
            "Epoch 99/100\n",
            "12/12 [==============================] - 0s 9ms/step - loss: 7.8301 - mse: 86.5228 - val_loss: 7.8368 - val_mse: 90.0633\n",
            "Epoch 100/100\n",
            "12/12 [==============================] - 0s 9ms/step - loss: 7.8182 - mse: 86.3329 - val_loss: 7.8248 - val_mse: 89.8755\n"
          ]
        },
        {
          "output_type": "execute_result",
          "data": {
            "text/plain": [
              "<keras.callbacks.History at 0x7e139d0ef280>"
            ]
          },
          "metadata": {},
          "execution_count": 67
        }
      ]
    },
    {
      "cell_type": "code",
      "source": [
        "loss2=pd.DataFrame(model2.history.history)\n",
        "loss2[['loss','val_loss']].plot()"
      ],
      "metadata": {
        "colab": {
          "base_uri": "https://localhost:8080/",
          "height": 452
        },
        "id": "vQ0qszaFuoH7",
        "outputId": "3f29280e-8c52-44f5-bea4-9b572dc76f06"
      },
      "execution_count": null,
      "outputs": [
        {
          "output_type": "execute_result",
          "data": {
            "text/plain": [
              "<Axes: >"
            ]
          },
          "metadata": {},
          "execution_count": 68
        },
        {
          "output_type": "display_data",
          "data": {
            "text/plain": [
              "<Figure size 640x480 with 1 Axes>"
            ],
            "image/png": "[encoded data removed]"
          },
          "metadata": {}
        }
      ]
    },
    {
      "cell_type": "code",
      "source": [
        "loss2[['mse','val_mse']].plot()"
      ],
      "metadata": {
        "colab": {
          "base_uri": "https://localhost:8080/",
          "height": 452
        },
        "id": "G8wHIhFowg0X",
        "outputId": "bcd59d22-d3bb-4ab0-87a1-855a2e08a5df"
      },
      "execution_count": null,
      "outputs": [
        {
          "output_type": "execute_result",
          "data": {
            "text/plain": [
              "<Axes: >"
            ]
          },
          "metadata": {},
          "execution_count": 69
        },
        {
          "output_type": "display_data",
          "data": {
            "text/plain": [
              "<Figure size 640x480 with 1 Axes>"
            ],
            "image/png": "[encoded data removed]"
          },
          "metadata": {}
        }
      ]
    },
    {
      "cell_type": "code",
      "source": [
        "loss2.plot()"
      ],
      "metadata": {
        "colab": {
          "base_uri": "https://localhost:8080/",
          "height": 452
        },
        "id": "uYD3u16-wsPG",
        "outputId": "a3b3fe14-af72-41d7-9fd7-b678d95aef3e"
      },
      "execution_count": null,
      "outputs": [
        {
          "output_type": "execute_result",
          "data": {
            "text/plain": [
              "<Axes: >"
            ]
          },
          "metadata": {},
          "execution_count": 70
        },
        {
          "output_type": "display_data",
          "data": {
            "text/plain": [
              "<Figure size 640x480 with 1 Axes>"
            ],
            "image/png": "[encoded data removed]"
          },
          "metadata": {}
        }
      ]
    },
    {
      "cell_type": "code",
      "source": [],
      "metadata": {
        "id": "tnuhvve6xAJe"
      },
      "execution_count": null,
      "outputs": []
    }
  ]
}