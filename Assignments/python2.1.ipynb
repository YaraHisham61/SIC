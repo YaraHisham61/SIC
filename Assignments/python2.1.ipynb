{
 "cells": [
  {
   "cell_type": "code",
   "execution_count": 14,
   "metadata": {},
   "outputs": [
    {
     "name": "stdout",
     "output_type": "stream",
     "text": [
      "Enter your first name yara\n",
      "Enter your last name hisham\n",
      "Enter your ID (must be three numbers) 888\n",
      "Enter your gender (m/f) F\n"
     ]
    }
   ],
   "source": [
    "def get_user_info():\n",
    "    firstName = input(\"Enter your first name\")\n",
    "    lastName = input(\"Enter your last name\")\n",
    "    \n",
    "    if len(firstName) < 3 or len(lastName) < 3 :\n",
    "        print(\"Names must be more than 3 letters\")\n",
    "        return\n",
    "        \n",
    "    id = input(\"Enter your ID (must be three numbers)\")\n",
    "    if len(id) != 3 :\n",
    "        print(\"ID must be exactly three numbers\")\n",
    "        return\n",
    "    try:\n",
    "        id = int(id)\n",
    "    except:\n",
    "        print(\"ID must contain numbers only\")\n",
    "        return\n",
    "\n",
    "    gender =  input(\"Enter your gender (M/F)\").upper()\n",
    "    if gender != 'M' and gender !='F':\n",
    "        print(\"gender value must be F or M\")\n",
    "        return\n",
    "        \n",
    "    with open(\"test.txt\",\"a\") as file:\n",
    "        file.write(\"First Name : \" + firstName + '\\n')\n",
    "        file.write(\"Last Name : \" + lastName + '\\n')\n",
    "        file.write(\"ID : \" + str(id).zfill(3) + '\\n')\n",
    "        file.write(\"Gender : \" + gender + '\\n')\n",
    "\n",
    "get_user_info()"
   ]
  },
  {
   "cell_type": "code",
   "execution_count": null,
   "metadata": {},
   "outputs": [],
   "source": []
  }
 ],
 "metadata": {
  "kernelspec": {
   "display_name": "Python 3 (ipykernel)",
   "language": "python",
   "name": "python3"
  },
  "language_info": {
   "codemirror_mode": {
    "name": "ipython",
    "version": 3
   },
   "file_extension": ".py",
   "mimetype": "text/x-python",
   "name": "python",
   "nbconvert_exporter": "python",
   "pygments_lexer": "ipython3",
   "version": "3.11.5"
  }
 },
 "nbformat": 4,
 "nbformat_minor": 4
}
